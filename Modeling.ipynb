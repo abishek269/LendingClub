{
 "cells": [
  {
   "cell_type": "code",
   "execution_count": 1,
   "metadata": {},
   "outputs": [],
   "source": [
    "import pandas as pd\n",
    "import numpy as np\n",
    "import matplotlib.pyplot as plt\n",
    "import seaborn as sns\n",
    "from sklearn.model_selection import train_test_split"
   ]
  },
  {
   "cell_type": "code",
   "execution_count": 2,
   "metadata": {},
   "outputs": [],
   "source": [
    "df = pd.read_csv(\"LendingClub_scaled.csv\")"
   ]
  },
  {
   "cell_type": "code",
   "execution_count": 3,
   "metadata": {},
   "outputs": [
    {
     "data": {
      "text/html": [
       "<div>\n",
       "<style scoped>\n",
       "    .dataframe tbody tr th:only-of-type {\n",
       "        vertical-align: middle;\n",
       "    }\n",
       "\n",
       "    .dataframe tbody tr th {\n",
       "        vertical-align: top;\n",
       "    }\n",
       "\n",
       "    .dataframe thead th {\n",
       "        text-align: right;\n",
       "    }\n",
       "</style>\n",
       "<table border=\"1\" class=\"dataframe\">\n",
       "  <thead>\n",
       "    <tr style=\"text-align: right;\">\n",
       "      <th></th>\n",
       "      <th>funded_amnt</th>\n",
       "      <th>term</th>\n",
       "      <th>installment</th>\n",
       "      <th>emp_length</th>\n",
       "      <th>annual_inc</th>\n",
       "      <th>dti</th>\n",
       "      <th>delinq_2yrs</th>\n",
       "      <th>open_acc</th>\n",
       "      <th>revol_bal</th>\n",
       "      <th>revol_util</th>\n",
       "      <th>...</th>\n",
       "      <th>purpose_medical</th>\n",
       "      <th>purpose_moving</th>\n",
       "      <th>purpose_other</th>\n",
       "      <th>purpose_renewable_energy</th>\n",
       "      <th>purpose_small_business</th>\n",
       "      <th>purpose_vacation</th>\n",
       "      <th>purpose_wedding</th>\n",
       "      <th>application_type_Individual</th>\n",
       "      <th>application_type_Joint App</th>\n",
       "      <th>loan_status</th>\n",
       "    </tr>\n",
       "  </thead>\n",
       "  <tbody>\n",
       "    <tr>\n",
       "      <th>0</th>\n",
       "      <td>-1.279802</td>\n",
       "      <td>-0.579069</td>\n",
       "      <td>-1.240009</td>\n",
       "      <td>1.098272</td>\n",
       "      <td>-0.328292</td>\n",
       "      <td>-1.324187</td>\n",
       "      <td>-0.367941</td>\n",
       "      <td>-0.896622</td>\n",
       "      <td>-0.630601</td>\n",
       "      <td>-0.912299</td>\n",
       "      <td>...</td>\n",
       "      <td>0</td>\n",
       "      <td>0</td>\n",
       "      <td>0</td>\n",
       "      <td>0</td>\n",
       "      <td>0</td>\n",
       "      <td>0</td>\n",
       "      <td>0</td>\n",
       "      <td>1</td>\n",
       "      <td>0</td>\n",
       "      <td>0</td>\n",
       "    </tr>\n",
       "    <tr>\n",
       "      <th>1</th>\n",
       "      <td>1.128241</td>\n",
       "      <td>-0.579069</td>\n",
       "      <td>1.415401</td>\n",
       "      <td>1.098272</td>\n",
       "      <td>-0.189794</td>\n",
       "      <td>-0.260251</td>\n",
       "      <td>0.756352</td>\n",
       "      <td>1.830533</td>\n",
       "      <td>0.232760</td>\n",
       "      <td>-1.345031</td>\n",
       "      <td>...</td>\n",
       "      <td>0</td>\n",
       "      <td>0</td>\n",
       "      <td>0</td>\n",
       "      <td>0</td>\n",
       "      <td>1</td>\n",
       "      <td>0</td>\n",
       "      <td>0</td>\n",
       "      <td>1</td>\n",
       "      <td>0</td>\n",
       "      <td>0</td>\n",
       "    </tr>\n",
       "    <tr>\n",
       "      <th>2</th>\n",
       "      <td>-0.503750</td>\n",
       "      <td>1.726909</td>\n",
       "      <td>-0.604462</td>\n",
       "      <td>-0.865783</td>\n",
       "      <td>0.356344</td>\n",
       "      <td>0.715635</td>\n",
       "      <td>0.756352</td>\n",
       "      <td>0.012430</td>\n",
       "      <td>0.253946</td>\n",
       "      <td>0.521900</td>\n",
       "      <td>...</td>\n",
       "      <td>0</td>\n",
       "      <td>0</td>\n",
       "      <td>0</td>\n",
       "      <td>0</td>\n",
       "      <td>0</td>\n",
       "      <td>0</td>\n",
       "      <td>0</td>\n",
       "      <td>1</td>\n",
       "      <td>0</td>\n",
       "      <td>0</td>\n",
       "    </tr>\n",
       "    <tr>\n",
       "      <th>3</th>\n",
       "      <td>-0.326856</td>\n",
       "      <td>-0.579069</td>\n",
       "      <td>-0.165468</td>\n",
       "      <td>-0.585204</td>\n",
       "      <td>-0.619137</td>\n",
       "      <td>-0.874504</td>\n",
       "      <td>-0.367941</td>\n",
       "      <td>-1.260242</td>\n",
       "      <td>-0.351030</td>\n",
       "      <td>0.682629</td>\n",
       "      <td>...</td>\n",
       "      <td>0</td>\n",
       "      <td>0</td>\n",
       "      <td>0</td>\n",
       "      <td>0</td>\n",
       "      <td>0</td>\n",
       "      <td>0</td>\n",
       "      <td>0</td>\n",
       "      <td>1</td>\n",
       "      <td>0</td>\n",
       "      <td>0</td>\n",
       "    </tr>\n",
       "    <tr>\n",
       "      <th>4</th>\n",
       "      <td>0.591852</td>\n",
       "      <td>-0.579069</td>\n",
       "      <td>0.719605</td>\n",
       "      <td>1.098272</td>\n",
       "      <td>1.402929</td>\n",
       "      <td>-0.405953</td>\n",
       "      <td>-0.367941</td>\n",
       "      <td>0.012430</td>\n",
       "      <td>3.272592</td>\n",
       "      <td>1.346153</td>\n",
       "      <td>...</td>\n",
       "      <td>0</td>\n",
       "      <td>0</td>\n",
       "      <td>0</td>\n",
       "      <td>0</td>\n",
       "      <td>0</td>\n",
       "      <td>0</td>\n",
       "      <td>0</td>\n",
       "      <td>1</td>\n",
       "      <td>0</td>\n",
       "      <td>0</td>\n",
       "    </tr>\n",
       "  </tbody>\n",
       "</table>\n",
       "<p>5 rows × 76 columns</p>\n",
       "</div>"
      ],
      "text/plain": [
       "   funded_amnt      term  installment  emp_length  annual_inc       dti  \\\n",
       "0    -1.279802 -0.579069    -1.240009    1.098272   -0.328292 -1.324187   \n",
       "1     1.128241 -0.579069     1.415401    1.098272   -0.189794 -0.260251   \n",
       "2    -0.503750  1.726909    -0.604462   -0.865783    0.356344  0.715635   \n",
       "3    -0.326856 -0.579069    -0.165468   -0.585204   -0.619137 -0.874504   \n",
       "4     0.591852 -0.579069     0.719605    1.098272    1.402929 -0.405953   \n",
       "\n",
       "   delinq_2yrs  open_acc  revol_bal  revol_util  ...  purpose_medical  \\\n",
       "0    -0.367941 -0.896622  -0.630601   -0.912299  ...                0   \n",
       "1     0.756352  1.830533   0.232760   -1.345031  ...                0   \n",
       "2     0.756352  0.012430   0.253946    0.521900  ...                0   \n",
       "3    -0.367941 -1.260242  -0.351030    0.682629  ...                0   \n",
       "4    -0.367941  0.012430   3.272592    1.346153  ...                0   \n",
       "\n",
       "   purpose_moving  purpose_other  purpose_renewable_energy  \\\n",
       "0               0              0                         0   \n",
       "1               0              0                         0   \n",
       "2               0              0                         0   \n",
       "3               0              0                         0   \n",
       "4               0              0                         0   \n",
       "\n",
       "   purpose_small_business  purpose_vacation  purpose_wedding  \\\n",
       "0                       0                 0                0   \n",
       "1                       1                 0                0   \n",
       "2                       0                 0                0   \n",
       "3                       0                 0                0   \n",
       "4                       0                 0                0   \n",
       "\n",
       "   application_type_Individual  application_type_Joint App  loan_status  \n",
       "0                            1                           0            0  \n",
       "1                            1                           0            0  \n",
       "2                            1                           0            0  \n",
       "3                            1                           0            0  \n",
       "4                            1                           0            0  \n",
       "\n",
       "[5 rows x 76 columns]"
      ]
     },
     "execution_count": 3,
     "metadata": {},
     "output_type": "execute_result"
    }
   ],
   "source": [
    "df.head()"
   ]
  },
  {
   "cell_type": "markdown",
   "metadata": {},
   "source": [
    "### Now lets pick best model"
   ]
  },
  {
   "cell_type": "code",
   "execution_count": 4,
   "metadata": {},
   "outputs": [],
   "source": [
    "df_sam = df.sample(n = 200000)  ### only pick few rows randomly to see the best model"
   ]
  },
  {
   "cell_type": "code",
   "execution_count": 5,
   "metadata": {},
   "outputs": [
    {
     "data": {
      "text/plain": [
       "(200000, 76)"
      ]
     },
     "execution_count": 5,
     "metadata": {},
     "output_type": "execute_result"
    }
   ],
   "source": [
    "df_sam.shape"
   ]
  },
  {
   "cell_type": "code",
   "execution_count": 6,
   "metadata": {},
   "outputs": [
    {
     "data": {
      "text/plain": [
       "0    161522\n",
       "1     38478\n",
       "Name: loan_status, dtype: int64"
      ]
     },
     "execution_count": 6,
     "metadata": {},
     "output_type": "execute_result"
    }
   ],
   "source": [
    "df_sam.loan_status.value_counts()"
   ]
  },
  {
   "cell_type": "code",
   "execution_count": 7,
   "metadata": {},
   "outputs": [
    {
     "name": "stdout",
     "output_type": "stream",
     "text": [
      "Using PyCaret Version 2.2.0\n"
     ]
    }
   ],
   "source": [
    "import pycaret\n",
    "print('Using PyCaret Version', pycaret.__version__)"
   ]
  },
  {
   "cell_type": "code",
   "execution_count": 8,
   "metadata": {},
   "outputs": [
    {
     "data": {
      "text/html": [
       "<style  type=\"text/css\" >\n",
       "    #T_6d99a0d8_bd86_11eb_b122_48f17ff7bb32 th {\n",
       "          text-align: left;\n",
       "    }#T_6d99a0d8_bd86_11eb_b122_48f17ff7bb32row0_col0,#T_6d99a0d8_bd86_11eb_b122_48f17ff7bb32row0_col2,#T_6d99a0d8_bd86_11eb_b122_48f17ff7bb32row0_col3,#T_6d99a0d8_bd86_11eb_b122_48f17ff7bb32row0_col4,#T_6d99a0d8_bd86_11eb_b122_48f17ff7bb32row0_col5,#T_6d99a0d8_bd86_11eb_b122_48f17ff7bb32row0_col6,#T_6d99a0d8_bd86_11eb_b122_48f17ff7bb32row0_col7,#T_6d99a0d8_bd86_11eb_b122_48f17ff7bb32row1_col0,#T_6d99a0d8_bd86_11eb_b122_48f17ff7bb32row1_col1,#T_6d99a0d8_bd86_11eb_b122_48f17ff7bb32row1_col2,#T_6d99a0d8_bd86_11eb_b122_48f17ff7bb32row1_col3,#T_6d99a0d8_bd86_11eb_b122_48f17ff7bb32row1_col4,#T_6d99a0d8_bd86_11eb_b122_48f17ff7bb32row1_col5,#T_6d99a0d8_bd86_11eb_b122_48f17ff7bb32row1_col6,#T_6d99a0d8_bd86_11eb_b122_48f17ff7bb32row1_col7,#T_6d99a0d8_bd86_11eb_b122_48f17ff7bb32row2_col0,#T_6d99a0d8_bd86_11eb_b122_48f17ff7bb32row2_col1,#T_6d99a0d8_bd86_11eb_b122_48f17ff7bb32row2_col3,#T_6d99a0d8_bd86_11eb_b122_48f17ff7bb32row2_col4,#T_6d99a0d8_bd86_11eb_b122_48f17ff7bb32row2_col5,#T_6d99a0d8_bd86_11eb_b122_48f17ff7bb32row2_col6,#T_6d99a0d8_bd86_11eb_b122_48f17ff7bb32row2_col7,#T_6d99a0d8_bd86_11eb_b122_48f17ff7bb32row3_col0,#T_6d99a0d8_bd86_11eb_b122_48f17ff7bb32row3_col1,#T_6d99a0d8_bd86_11eb_b122_48f17ff7bb32row3_col2,#T_6d99a0d8_bd86_11eb_b122_48f17ff7bb32row3_col3,#T_6d99a0d8_bd86_11eb_b122_48f17ff7bb32row3_col4,#T_6d99a0d8_bd86_11eb_b122_48f17ff7bb32row3_col5,#T_6d99a0d8_bd86_11eb_b122_48f17ff7bb32row3_col6,#T_6d99a0d8_bd86_11eb_b122_48f17ff7bb32row3_col7,#T_6d99a0d8_bd86_11eb_b122_48f17ff7bb32row4_col0,#T_6d99a0d8_bd86_11eb_b122_48f17ff7bb32row4_col1,#T_6d99a0d8_bd86_11eb_b122_48f17ff7bb32row4_col2,#T_6d99a0d8_bd86_11eb_b122_48f17ff7bb32row4_col3,#T_6d99a0d8_bd86_11eb_b122_48f17ff7bb32row4_col4,#T_6d99a0d8_bd86_11eb_b122_48f17ff7bb32row4_col5,#T_6d99a0d8_bd86_11eb_b122_48f17ff7bb32row4_col6,#T_6d99a0d8_bd86_11eb_b122_48f17ff7bb32row4_col7,#T_6d99a0d8_bd86_11eb_b122_48f17ff7bb32row5_col0,#T_6d99a0d8_bd86_11eb_b122_48f17ff7bb32row5_col1,#T_6d99a0d8_bd86_11eb_b122_48f17ff7bb32row5_col2,#T_6d99a0d8_bd86_11eb_b122_48f17ff7bb32row5_col3,#T_6d99a0d8_bd86_11eb_b122_48f17ff7bb32row5_col5,#T_6d99a0d8_bd86_11eb_b122_48f17ff7bb32row5_col6,#T_6d99a0d8_bd86_11eb_b122_48f17ff7bb32row5_col7,#T_6d99a0d8_bd86_11eb_b122_48f17ff7bb32row6_col0,#T_6d99a0d8_bd86_11eb_b122_48f17ff7bb32row6_col1,#T_6d99a0d8_bd86_11eb_b122_48f17ff7bb32row6_col2,#T_6d99a0d8_bd86_11eb_b122_48f17ff7bb32row6_col3,#T_6d99a0d8_bd86_11eb_b122_48f17ff7bb32row6_col4,#T_6d99a0d8_bd86_11eb_b122_48f17ff7bb32row6_col5,#T_6d99a0d8_bd86_11eb_b122_48f17ff7bb32row6_col6,#T_6d99a0d8_bd86_11eb_b122_48f17ff7bb32row6_col7,#T_6d99a0d8_bd86_11eb_b122_48f17ff7bb32row7_col0,#T_6d99a0d8_bd86_11eb_b122_48f17ff7bb32row7_col1,#T_6d99a0d8_bd86_11eb_b122_48f17ff7bb32row7_col2,#T_6d99a0d8_bd86_11eb_b122_48f17ff7bb32row7_col3,#T_6d99a0d8_bd86_11eb_b122_48f17ff7bb32row7_col4,#T_6d99a0d8_bd86_11eb_b122_48f17ff7bb32row7_col5,#T_6d99a0d8_bd86_11eb_b122_48f17ff7bb32row7_col6,#T_6d99a0d8_bd86_11eb_b122_48f17ff7bb32row7_col7,#T_6d99a0d8_bd86_11eb_b122_48f17ff7bb32row8_col0,#T_6d99a0d8_bd86_11eb_b122_48f17ff7bb32row8_col1,#T_6d99a0d8_bd86_11eb_b122_48f17ff7bb32row8_col2,#T_6d99a0d8_bd86_11eb_b122_48f17ff7bb32row8_col3,#T_6d99a0d8_bd86_11eb_b122_48f17ff7bb32row8_col4,#T_6d99a0d8_bd86_11eb_b122_48f17ff7bb32row8_col5,#T_6d99a0d8_bd86_11eb_b122_48f17ff7bb32row8_col6,#T_6d99a0d8_bd86_11eb_b122_48f17ff7bb32row8_col7,#T_6d99a0d8_bd86_11eb_b122_48f17ff7bb32row9_col0,#T_6d99a0d8_bd86_11eb_b122_48f17ff7bb32row9_col1,#T_6d99a0d8_bd86_11eb_b122_48f17ff7bb32row9_col2,#T_6d99a0d8_bd86_11eb_b122_48f17ff7bb32row9_col3,#T_6d99a0d8_bd86_11eb_b122_48f17ff7bb32row9_col4,#T_6d99a0d8_bd86_11eb_b122_48f17ff7bb32row9_col5,#T_6d99a0d8_bd86_11eb_b122_48f17ff7bb32row9_col7,#T_6d99a0d8_bd86_11eb_b122_48f17ff7bb32row10_col0,#T_6d99a0d8_bd86_11eb_b122_48f17ff7bb32row10_col1,#T_6d99a0d8_bd86_11eb_b122_48f17ff7bb32row10_col2,#T_6d99a0d8_bd86_11eb_b122_48f17ff7bb32row10_col3,#T_6d99a0d8_bd86_11eb_b122_48f17ff7bb32row10_col4,#T_6d99a0d8_bd86_11eb_b122_48f17ff7bb32row10_col5,#T_6d99a0d8_bd86_11eb_b122_48f17ff7bb32row10_col6,#T_6d99a0d8_bd86_11eb_b122_48f17ff7bb32row10_col7,#T_6d99a0d8_bd86_11eb_b122_48f17ff7bb32row11_col0,#T_6d99a0d8_bd86_11eb_b122_48f17ff7bb32row11_col1,#T_6d99a0d8_bd86_11eb_b122_48f17ff7bb32row11_col2,#T_6d99a0d8_bd86_11eb_b122_48f17ff7bb32row11_col3,#T_6d99a0d8_bd86_11eb_b122_48f17ff7bb32row11_col4,#T_6d99a0d8_bd86_11eb_b122_48f17ff7bb32row11_col5,#T_6d99a0d8_bd86_11eb_b122_48f17ff7bb32row11_col6,#T_6d99a0d8_bd86_11eb_b122_48f17ff7bb32row11_col7,#T_6d99a0d8_bd86_11eb_b122_48f17ff7bb32row12_col0,#T_6d99a0d8_bd86_11eb_b122_48f17ff7bb32row12_col1,#T_6d99a0d8_bd86_11eb_b122_48f17ff7bb32row12_col2,#T_6d99a0d8_bd86_11eb_b122_48f17ff7bb32row12_col3,#T_6d99a0d8_bd86_11eb_b122_48f17ff7bb32row12_col4,#T_6d99a0d8_bd86_11eb_b122_48f17ff7bb32row12_col5,#T_6d99a0d8_bd86_11eb_b122_48f17ff7bb32row12_col6,#T_6d99a0d8_bd86_11eb_b122_48f17ff7bb32row12_col7,#T_6d99a0d8_bd86_11eb_b122_48f17ff7bb32row13_col0,#T_6d99a0d8_bd86_11eb_b122_48f17ff7bb32row13_col1,#T_6d99a0d8_bd86_11eb_b122_48f17ff7bb32row13_col2,#T_6d99a0d8_bd86_11eb_b122_48f17ff7bb32row13_col3,#T_6d99a0d8_bd86_11eb_b122_48f17ff7bb32row13_col4,#T_6d99a0d8_bd86_11eb_b122_48f17ff7bb32row13_col5,#T_6d99a0d8_bd86_11eb_b122_48f17ff7bb32row13_col6,#T_6d99a0d8_bd86_11eb_b122_48f17ff7bb32row13_col7,#T_6d99a0d8_bd86_11eb_b122_48f17ff7bb32row14_col0,#T_6d99a0d8_bd86_11eb_b122_48f17ff7bb32row14_col1,#T_6d99a0d8_bd86_11eb_b122_48f17ff7bb32row14_col2,#T_6d99a0d8_bd86_11eb_b122_48f17ff7bb32row14_col4,#T_6d99a0d8_bd86_11eb_b122_48f17ff7bb32row14_col6{\n",
       "            text-align:  left;\n",
       "            text-align:  left;\n",
       "        }#T_6d99a0d8_bd86_11eb_b122_48f17ff7bb32row0_col1,#T_6d99a0d8_bd86_11eb_b122_48f17ff7bb32row2_col2,#T_6d99a0d8_bd86_11eb_b122_48f17ff7bb32row5_col4,#T_6d99a0d8_bd86_11eb_b122_48f17ff7bb32row9_col6,#T_6d99a0d8_bd86_11eb_b122_48f17ff7bb32row14_col3,#T_6d99a0d8_bd86_11eb_b122_48f17ff7bb32row14_col5,#T_6d99a0d8_bd86_11eb_b122_48f17ff7bb32row14_col7{\n",
       "            text-align:  left;\n",
       "            text-align:  left;\n",
       "            background-color:  yellow;\n",
       "        }#T_6d99a0d8_bd86_11eb_b122_48f17ff7bb32row0_col8,#T_6d99a0d8_bd86_11eb_b122_48f17ff7bb32row1_col8,#T_6d99a0d8_bd86_11eb_b122_48f17ff7bb32row2_col8,#T_6d99a0d8_bd86_11eb_b122_48f17ff7bb32row3_col8,#T_6d99a0d8_bd86_11eb_b122_48f17ff7bb32row4_col8,#T_6d99a0d8_bd86_11eb_b122_48f17ff7bb32row6_col8,#T_6d99a0d8_bd86_11eb_b122_48f17ff7bb32row7_col8,#T_6d99a0d8_bd86_11eb_b122_48f17ff7bb32row8_col8,#T_6d99a0d8_bd86_11eb_b122_48f17ff7bb32row9_col8,#T_6d99a0d8_bd86_11eb_b122_48f17ff7bb32row10_col8,#T_6d99a0d8_bd86_11eb_b122_48f17ff7bb32row11_col8,#T_6d99a0d8_bd86_11eb_b122_48f17ff7bb32row12_col8,#T_6d99a0d8_bd86_11eb_b122_48f17ff7bb32row13_col8,#T_6d99a0d8_bd86_11eb_b122_48f17ff7bb32row14_col8{\n",
       "            text-align:  left;\n",
       "            text-align:  left;\n",
       "            background-color:  lightgrey;\n",
       "        }#T_6d99a0d8_bd86_11eb_b122_48f17ff7bb32row5_col8{\n",
       "            text-align:  left;\n",
       "            text-align:  left;\n",
       "            background-color:  yellow;\n",
       "            background-color:  lightgrey;\n",
       "        }</style><table id=\"T_6d99a0d8_bd86_11eb_b122_48f17ff7bb32\" ><thead>    <tr>        <th class=\"blank level0\" ></th>        <th class=\"col_heading level0 col0\" >Model</th>        <th class=\"col_heading level0 col1\" >Accuracy</th>        <th class=\"col_heading level0 col2\" >AUC</th>        <th class=\"col_heading level0 col3\" >Recall</th>        <th class=\"col_heading level0 col4\" >Prec.</th>        <th class=\"col_heading level0 col5\" >F1</th>        <th class=\"col_heading level0 col6\" >Kappa</th>        <th class=\"col_heading level0 col7\" >MCC</th>        <th class=\"col_heading level0 col8\" >TT (Sec)</th>    </tr></thead><tbody>\n",
       "                <tr>\n",
       "                        <th id=\"T_6d99a0d8_bd86_11eb_b122_48f17ff7bb32level0_row0\" class=\"row_heading level0 row0\" >gbc</th>\n",
       "                        <td id=\"T_6d99a0d8_bd86_11eb_b122_48f17ff7bb32row0_col0\" class=\"data row0 col0\" >Gradient Boosting Classifier</td>\n",
       "                        <td id=\"T_6d99a0d8_bd86_11eb_b122_48f17ff7bb32row0_col1\" class=\"data row0 col1\" >0.8106</td>\n",
       "                        <td id=\"T_6d99a0d8_bd86_11eb_b122_48f17ff7bb32row0_col2\" class=\"data row0 col2\" >0.7217</td>\n",
       "                        <td id=\"T_6d99a0d8_bd86_11eb_b122_48f17ff7bb32row0_col3\" class=\"data row0 col3\" >0.0607</td>\n",
       "                        <td id=\"T_6d99a0d8_bd86_11eb_b122_48f17ff7bb32row0_col4\" class=\"data row0 col4\" >0.5497</td>\n",
       "                        <td id=\"T_6d99a0d8_bd86_11eb_b122_48f17ff7bb32row0_col5\" class=\"data row0 col5\" >0.1094</td>\n",
       "                        <td id=\"T_6d99a0d8_bd86_11eb_b122_48f17ff7bb32row0_col6\" class=\"data row0 col6\" >0.0741</td>\n",
       "                        <td id=\"T_6d99a0d8_bd86_11eb_b122_48f17ff7bb32row0_col7\" class=\"data row0 col7\" >0.1338</td>\n",
       "                        <td id=\"T_6d99a0d8_bd86_11eb_b122_48f17ff7bb32row0_col8\" class=\"data row0 col8\" >23.1630</td>\n",
       "            </tr>\n",
       "            <tr>\n",
       "                        <th id=\"T_6d99a0d8_bd86_11eb_b122_48f17ff7bb32level0_row1\" class=\"row_heading level0 row1\" >lr</th>\n",
       "                        <td id=\"T_6d99a0d8_bd86_11eb_b122_48f17ff7bb32row1_col0\" class=\"data row1 col0\" >Logistic Regression</td>\n",
       "                        <td id=\"T_6d99a0d8_bd86_11eb_b122_48f17ff7bb32row1_col1\" class=\"data row1 col1\" >0.8105</td>\n",
       "                        <td id=\"T_6d99a0d8_bd86_11eb_b122_48f17ff7bb32row1_col2\" class=\"data row1 col2\" >0.7190</td>\n",
       "                        <td id=\"T_6d99a0d8_bd86_11eb_b122_48f17ff7bb32row1_col3\" class=\"data row1 col3\" >0.0621</td>\n",
       "                        <td id=\"T_6d99a0d8_bd86_11eb_b122_48f17ff7bb32row1_col4\" class=\"data row1 col4\" >0.5450</td>\n",
       "                        <td id=\"T_6d99a0d8_bd86_11eb_b122_48f17ff7bb32row1_col5\" class=\"data row1 col5\" >0.1114</td>\n",
       "                        <td id=\"T_6d99a0d8_bd86_11eb_b122_48f17ff7bb32row1_col6\" class=\"data row1 col6\" >0.0752</td>\n",
       "                        <td id=\"T_6d99a0d8_bd86_11eb_b122_48f17ff7bb32row1_col7\" class=\"data row1 col7\" >0.1341</td>\n",
       "                        <td id=\"T_6d99a0d8_bd86_11eb_b122_48f17ff7bb32row1_col8\" class=\"data row1 col8\" >5.6010</td>\n",
       "            </tr>\n",
       "            <tr>\n",
       "                        <th id=\"T_6d99a0d8_bd86_11eb_b122_48f17ff7bb32level0_row2\" class=\"row_heading level0 row2\" >lightgbm</th>\n",
       "                        <td id=\"T_6d99a0d8_bd86_11eb_b122_48f17ff7bb32row2_col0\" class=\"data row2 col0\" >Light Gradient Boosting Machine</td>\n",
       "                        <td id=\"T_6d99a0d8_bd86_11eb_b122_48f17ff7bb32row2_col1\" class=\"data row2 col1\" >0.8105</td>\n",
       "                        <td id=\"T_6d99a0d8_bd86_11eb_b122_48f17ff7bb32row2_col2\" class=\"data row2 col2\" >0.7225</td>\n",
       "                        <td id=\"T_6d99a0d8_bd86_11eb_b122_48f17ff7bb32row2_col3\" class=\"data row2 col3\" >0.0725</td>\n",
       "                        <td id=\"T_6d99a0d8_bd86_11eb_b122_48f17ff7bb32row2_col4\" class=\"data row2 col4\" >0.5380</td>\n",
       "                        <td id=\"T_6d99a0d8_bd86_11eb_b122_48f17ff7bb32row2_col5\" class=\"data row2 col5\" >0.1277</td>\n",
       "                        <td id=\"T_6d99a0d8_bd86_11eb_b122_48f17ff7bb32row2_col6\" class=\"data row2 col6\" >0.0861</td>\n",
       "                        <td id=\"T_6d99a0d8_bd86_11eb_b122_48f17ff7bb32row2_col7\" class=\"data row2 col7\" >0.1432</td>\n",
       "                        <td id=\"T_6d99a0d8_bd86_11eb_b122_48f17ff7bb32row2_col8\" class=\"data row2 col8\" >1.0910</td>\n",
       "            </tr>\n",
       "            <tr>\n",
       "                        <th id=\"T_6d99a0d8_bd86_11eb_b122_48f17ff7bb32level0_row3\" class=\"row_heading level0 row3\" >ada</th>\n",
       "                        <td id=\"T_6d99a0d8_bd86_11eb_b122_48f17ff7bb32row3_col0\" class=\"data row3 col0\" >Ada Boost Classifier</td>\n",
       "                        <td id=\"T_6d99a0d8_bd86_11eb_b122_48f17ff7bb32row3_col1\" class=\"data row3 col1\" >0.8101</td>\n",
       "                        <td id=\"T_6d99a0d8_bd86_11eb_b122_48f17ff7bb32row3_col2\" class=\"data row3 col2\" >0.7167</td>\n",
       "                        <td id=\"T_6d99a0d8_bd86_11eb_b122_48f17ff7bb32row3_col3\" class=\"data row3 col3\" >0.0629</td>\n",
       "                        <td id=\"T_6d99a0d8_bd86_11eb_b122_48f17ff7bb32row3_col4\" class=\"data row3 col4\" >0.5349</td>\n",
       "                        <td id=\"T_6d99a0d8_bd86_11eb_b122_48f17ff7bb32row3_col5\" class=\"data row3 col5\" >0.1125</td>\n",
       "                        <td id=\"T_6d99a0d8_bd86_11eb_b122_48f17ff7bb32row3_col6\" class=\"data row3 col6\" >0.0753</td>\n",
       "                        <td id=\"T_6d99a0d8_bd86_11eb_b122_48f17ff7bb32row3_col7\" class=\"data row3 col7\" >0.1324</td>\n",
       "                        <td id=\"T_6d99a0d8_bd86_11eb_b122_48f17ff7bb32row3_col8\" class=\"data row3 col8\" >4.6360</td>\n",
       "            </tr>\n",
       "            <tr>\n",
       "                        <th id=\"T_6d99a0d8_bd86_11eb_b122_48f17ff7bb32level0_row4\" class=\"row_heading level0 row4\" >catboost</th>\n",
       "                        <td id=\"T_6d99a0d8_bd86_11eb_b122_48f17ff7bb32row4_col0\" class=\"data row4 col0\" >CatBoost Classifier</td>\n",
       "                        <td id=\"T_6d99a0d8_bd86_11eb_b122_48f17ff7bb32row4_col1\" class=\"data row4 col1\" >0.8101</td>\n",
       "                        <td id=\"T_6d99a0d8_bd86_11eb_b122_48f17ff7bb32row4_col2\" class=\"data row4 col2\" >0.7222</td>\n",
       "                        <td id=\"T_6d99a0d8_bd86_11eb_b122_48f17ff7bb32row4_col3\" class=\"data row4 col3\" >0.0897</td>\n",
       "                        <td id=\"T_6d99a0d8_bd86_11eb_b122_48f17ff7bb32row4_col4\" class=\"data row4 col4\" >0.5233</td>\n",
       "                        <td id=\"T_6d99a0d8_bd86_11eb_b122_48f17ff7bb32row4_col5\" class=\"data row4 col5\" >0.1531</td>\n",
       "                        <td id=\"T_6d99a0d8_bd86_11eb_b122_48f17ff7bb32row4_col6\" class=\"data row4 col6\" >0.1029</td>\n",
       "                        <td id=\"T_6d99a0d8_bd86_11eb_b122_48f17ff7bb32row4_col7\" class=\"data row4 col7\" >0.1553</td>\n",
       "                        <td id=\"T_6d99a0d8_bd86_11eb_b122_48f17ff7bb32row4_col8\" class=\"data row4 col8\" >24.9080</td>\n",
       "            </tr>\n",
       "            <tr>\n",
       "                        <th id=\"T_6d99a0d8_bd86_11eb_b122_48f17ff7bb32level0_row5\" class=\"row_heading level0 row5\" >ridge</th>\n",
       "                        <td id=\"T_6d99a0d8_bd86_11eb_b122_48f17ff7bb32row5_col0\" class=\"data row5 col0\" >Ridge Classifier</td>\n",
       "                        <td id=\"T_6d99a0d8_bd86_11eb_b122_48f17ff7bb32row5_col1\" class=\"data row5 col1\" >0.8100</td>\n",
       "                        <td id=\"T_6d99a0d8_bd86_11eb_b122_48f17ff7bb32row5_col2\" class=\"data row5 col2\" >0.0000</td>\n",
       "                        <td id=\"T_6d99a0d8_bd86_11eb_b122_48f17ff7bb32row5_col3\" class=\"data row5 col3\" >0.0305</td>\n",
       "                        <td id=\"T_6d99a0d8_bd86_11eb_b122_48f17ff7bb32row5_col4\" class=\"data row5 col4\" >0.5677</td>\n",
       "                        <td id=\"T_6d99a0d8_bd86_11eb_b122_48f17ff7bb32row5_col5\" class=\"data row5 col5\" >0.0579</td>\n",
       "                        <td id=\"T_6d99a0d8_bd86_11eb_b122_48f17ff7bb32row5_col6\" class=\"data row5 col6\" >0.0391</td>\n",
       "                        <td id=\"T_6d99a0d8_bd86_11eb_b122_48f17ff7bb32row5_col7\" class=\"data row5 col7\" >0.0975</td>\n",
       "                        <td id=\"T_6d99a0d8_bd86_11eb_b122_48f17ff7bb32row5_col8\" class=\"data row5 col8\" >0.1060</td>\n",
       "            </tr>\n",
       "            <tr>\n",
       "                        <th id=\"T_6d99a0d8_bd86_11eb_b122_48f17ff7bb32level0_row6\" class=\"row_heading level0 row6\" >rf</th>\n",
       "                        <td id=\"T_6d99a0d8_bd86_11eb_b122_48f17ff7bb32row6_col0\" class=\"data row6 col0\" >Random Forest Classifier</td>\n",
       "                        <td id=\"T_6d99a0d8_bd86_11eb_b122_48f17ff7bb32row6_col1\" class=\"data row6 col1\" >0.8096</td>\n",
       "                        <td id=\"T_6d99a0d8_bd86_11eb_b122_48f17ff7bb32row6_col2\" class=\"data row6 col2\" >0.7074</td>\n",
       "                        <td id=\"T_6d99a0d8_bd86_11eb_b122_48f17ff7bb32row6_col3\" class=\"data row6 col3\" >0.0493</td>\n",
       "                        <td id=\"T_6d99a0d8_bd86_11eb_b122_48f17ff7bb32row6_col4\" class=\"data row6 col4\" >0.5282</td>\n",
       "                        <td id=\"T_6d99a0d8_bd86_11eb_b122_48f17ff7bb32row6_col5\" class=\"data row6 col5\" >0.0901</td>\n",
       "                        <td id=\"T_6d99a0d8_bd86_11eb_b122_48f17ff7bb32row6_col6\" class=\"data row6 col6\" >0.0594</td>\n",
       "                        <td id=\"T_6d99a0d8_bd86_11eb_b122_48f17ff7bb32row6_col7\" class=\"data row6 col7\" >0.1154</td>\n",
       "                        <td id=\"T_6d99a0d8_bd86_11eb_b122_48f17ff7bb32row6_col8\" class=\"data row6 col8\" >12.0990</td>\n",
       "            </tr>\n",
       "            <tr>\n",
       "                        <th id=\"T_6d99a0d8_bd86_11eb_b122_48f17ff7bb32level0_row7\" class=\"row_heading level0 row7\" >et</th>\n",
       "                        <td id=\"T_6d99a0d8_bd86_11eb_b122_48f17ff7bb32row7_col0\" class=\"data row7 col0\" >Extra Trees Classifier</td>\n",
       "                        <td id=\"T_6d99a0d8_bd86_11eb_b122_48f17ff7bb32row7_col1\" class=\"data row7 col1\" >0.8088</td>\n",
       "                        <td id=\"T_6d99a0d8_bd86_11eb_b122_48f17ff7bb32row7_col2\" class=\"data row7 col2\" >0.7044</td>\n",
       "                        <td id=\"T_6d99a0d8_bd86_11eb_b122_48f17ff7bb32row7_col3\" class=\"data row7 col3\" >0.0599</td>\n",
       "                        <td id=\"T_6d99a0d8_bd86_11eb_b122_48f17ff7bb32row7_col4\" class=\"data row7 col4\" >0.5053</td>\n",
       "                        <td id=\"T_6d99a0d8_bd86_11eb_b122_48f17ff7bb32row7_col5\" class=\"data row7 col5\" >0.1071</td>\n",
       "                        <td id=\"T_6d99a0d8_bd86_11eb_b122_48f17ff7bb32row7_col6\" class=\"data row7 col6\" >0.0693</td>\n",
       "                        <td id=\"T_6d99a0d8_bd86_11eb_b122_48f17ff7bb32row7_col7\" class=\"data row7 col7\" >0.1216</td>\n",
       "                        <td id=\"T_6d99a0d8_bd86_11eb_b122_48f17ff7bb32row7_col8\" class=\"data row7 col8\" >15.4550</td>\n",
       "            </tr>\n",
       "            <tr>\n",
       "                        <th id=\"T_6d99a0d8_bd86_11eb_b122_48f17ff7bb32level0_row8\" class=\"row_heading level0 row8\" >svm</th>\n",
       "                        <td id=\"T_6d99a0d8_bd86_11eb_b122_48f17ff7bb32row8_col0\" class=\"data row8 col0\" >SVM - Linear Kernel</td>\n",
       "                        <td id=\"T_6d99a0d8_bd86_11eb_b122_48f17ff7bb32row8_col1\" class=\"data row8 col1\" >0.8084</td>\n",
       "                        <td id=\"T_6d99a0d8_bd86_11eb_b122_48f17ff7bb32row8_col2\" class=\"data row8 col2\" >0.0000</td>\n",
       "                        <td id=\"T_6d99a0d8_bd86_11eb_b122_48f17ff7bb32row8_col3\" class=\"data row8 col3\" >0.0004</td>\n",
       "                        <td id=\"T_6d99a0d8_bd86_11eb_b122_48f17ff7bb32row8_col4\" class=\"data row8 col4\" >0.3392</td>\n",
       "                        <td id=\"T_6d99a0d8_bd86_11eb_b122_48f17ff7bb32row8_col5\" class=\"data row8 col5\" >0.0009</td>\n",
       "                        <td id=\"T_6d99a0d8_bd86_11eb_b122_48f17ff7bb32row8_col6\" class=\"data row8 col6\" >0.0002</td>\n",
       "                        <td id=\"T_6d99a0d8_bd86_11eb_b122_48f17ff7bb32row8_col7\" class=\"data row8 col7\" >0.0042</td>\n",
       "                        <td id=\"T_6d99a0d8_bd86_11eb_b122_48f17ff7bb32row8_col8\" class=\"data row8 col8\" >0.4310</td>\n",
       "            </tr>\n",
       "            <tr>\n",
       "                        <th id=\"T_6d99a0d8_bd86_11eb_b122_48f17ff7bb32level0_row9\" class=\"row_heading level0 row9\" >lda</th>\n",
       "                        <td id=\"T_6d99a0d8_bd86_11eb_b122_48f17ff7bb32row9_col0\" class=\"data row9 col0\" >Linear Discriminant Analysis</td>\n",
       "                        <td id=\"T_6d99a0d8_bd86_11eb_b122_48f17ff7bb32row9_col1\" class=\"data row9 col1\" >0.8084</td>\n",
       "                        <td id=\"T_6d99a0d8_bd86_11eb_b122_48f17ff7bb32row9_col2\" class=\"data row9 col2\" >0.7177</td>\n",
       "                        <td id=\"T_6d99a0d8_bd86_11eb_b122_48f17ff7bb32row9_col3\" class=\"data row9 col3\" >0.1160</td>\n",
       "                        <td id=\"T_6d99a0d8_bd86_11eb_b122_48f17ff7bb32row9_col4\" class=\"data row9 col4\" >0.4983</td>\n",
       "                        <td id=\"T_6d99a0d8_bd86_11eb_b122_48f17ff7bb32row9_col5\" class=\"data row9 col5\" >0.1882</td>\n",
       "                        <td id=\"T_6d99a0d8_bd86_11eb_b122_48f17ff7bb32row9_col6\" class=\"data row9 col6\" >0.1249</td>\n",
       "                        <td id=\"T_6d99a0d8_bd86_11eb_b122_48f17ff7bb32row9_col7\" class=\"data row9 col7\" >0.1684</td>\n",
       "                        <td id=\"T_6d99a0d8_bd86_11eb_b122_48f17ff7bb32row9_col8\" class=\"data row9 col8\" >0.9250</td>\n",
       "            </tr>\n",
       "            <tr>\n",
       "                        <th id=\"T_6d99a0d8_bd86_11eb_b122_48f17ff7bb32level0_row10\" class=\"row_heading level0 row10\" >xgboost</th>\n",
       "                        <td id=\"T_6d99a0d8_bd86_11eb_b122_48f17ff7bb32row10_col0\" class=\"data row10 col0\" >Extreme Gradient Boosting</td>\n",
       "                        <td id=\"T_6d99a0d8_bd86_11eb_b122_48f17ff7bb32row10_col1\" class=\"data row10 col1\" >0.8072</td>\n",
       "                        <td id=\"T_6d99a0d8_bd86_11eb_b122_48f17ff7bb32row10_col2\" class=\"data row10 col2\" >0.7119</td>\n",
       "                        <td id=\"T_6d99a0d8_bd86_11eb_b122_48f17ff7bb32row10_col3\" class=\"data row10 col3\" >0.1016</td>\n",
       "                        <td id=\"T_6d99a0d8_bd86_11eb_b122_48f17ff7bb32row10_col4\" class=\"data row10 col4\" >0.4835</td>\n",
       "                        <td id=\"T_6d99a0d8_bd86_11eb_b122_48f17ff7bb32row10_col5\" class=\"data row10 col5\" >0.1679</td>\n",
       "                        <td id=\"T_6d99a0d8_bd86_11eb_b122_48f17ff7bb32row10_col6\" class=\"data row10 col6\" >0.1086</td>\n",
       "                        <td id=\"T_6d99a0d8_bd86_11eb_b122_48f17ff7bb32row10_col7\" class=\"data row10 col7\" >0.1519</td>\n",
       "                        <td id=\"T_6d99a0d8_bd86_11eb_b122_48f17ff7bb32row10_col8\" class=\"data row10 col8\" >7.6950</td>\n",
       "            </tr>\n",
       "            <tr>\n",
       "                        <th id=\"T_6d99a0d8_bd86_11eb_b122_48f17ff7bb32level0_row11\" class=\"row_heading level0 row11\" >knn</th>\n",
       "                        <td id=\"T_6d99a0d8_bd86_11eb_b122_48f17ff7bb32row11_col0\" class=\"data row11 col0\" >K Neighbors Classifier</td>\n",
       "                        <td id=\"T_6d99a0d8_bd86_11eb_b122_48f17ff7bb32row11_col1\" class=\"data row11 col1\" >0.7871</td>\n",
       "                        <td id=\"T_6d99a0d8_bd86_11eb_b122_48f17ff7bb32row11_col2\" class=\"data row11 col2\" >0.5996</td>\n",
       "                        <td id=\"T_6d99a0d8_bd86_11eb_b122_48f17ff7bb32row11_col3\" class=\"data row11 col3\" >0.1075</td>\n",
       "                        <td id=\"T_6d99a0d8_bd86_11eb_b122_48f17ff7bb32row11_col4\" class=\"data row11 col4\" >0.3287</td>\n",
       "                        <td id=\"T_6d99a0d8_bd86_11eb_b122_48f17ff7bb32row11_col5\" class=\"data row11 col5\" >0.1620</td>\n",
       "                        <td id=\"T_6d99a0d8_bd86_11eb_b122_48f17ff7bb32row11_col6\" class=\"data row11 col6\" >0.0747</td>\n",
       "                        <td id=\"T_6d99a0d8_bd86_11eb_b122_48f17ff7bb32row11_col7\" class=\"data row11 col7\" >0.0902</td>\n",
       "                        <td id=\"T_6d99a0d8_bd86_11eb_b122_48f17ff7bb32row11_col8\" class=\"data row11 col8\" >195.4070</td>\n",
       "            </tr>\n",
       "            <tr>\n",
       "                        <th id=\"T_6d99a0d8_bd86_11eb_b122_48f17ff7bb32level0_row12\" class=\"row_heading level0 row12\" >qda</th>\n",
       "                        <td id=\"T_6d99a0d8_bd86_11eb_b122_48f17ff7bb32row12_col0\" class=\"data row12 col0\" >Quadratic Discriminant Analysis</td>\n",
       "                        <td id=\"T_6d99a0d8_bd86_11eb_b122_48f17ff7bb32row12_col1\" class=\"data row12 col1\" >0.7263</td>\n",
       "                        <td id=\"T_6d99a0d8_bd86_11eb_b122_48f17ff7bb32row12_col2\" class=\"data row12 col2\" >0.5051</td>\n",
       "                        <td id=\"T_6d99a0d8_bd86_11eb_b122_48f17ff7bb32row12_col3\" class=\"data row12 col3\" >0.1467</td>\n",
       "                        <td id=\"T_6d99a0d8_bd86_11eb_b122_48f17ff7bb32row12_col4\" class=\"data row12 col4\" >0.2245</td>\n",
       "                        <td id=\"T_6d99a0d8_bd86_11eb_b122_48f17ff7bb32row12_col5\" class=\"data row12 col5\" >0.1394</td>\n",
       "                        <td id=\"T_6d99a0d8_bd86_11eb_b122_48f17ff7bb32row12_col6\" class=\"data row12 col6\" >0.0114</td>\n",
       "                        <td id=\"T_6d99a0d8_bd86_11eb_b122_48f17ff7bb32row12_col7\" class=\"data row12 col7\" >0.0142</td>\n",
       "                        <td id=\"T_6d99a0d8_bd86_11eb_b122_48f17ff7bb32row12_col8\" class=\"data row12 col8\" >1.3970</td>\n",
       "            </tr>\n",
       "            <tr>\n",
       "                        <th id=\"T_6d99a0d8_bd86_11eb_b122_48f17ff7bb32level0_row13\" class=\"row_heading level0 row13\" >dt</th>\n",
       "                        <td id=\"T_6d99a0d8_bd86_11eb_b122_48f17ff7bb32row13_col0\" class=\"data row13 col0\" >Decision Tree Classifier</td>\n",
       "                        <td id=\"T_6d99a0d8_bd86_11eb_b122_48f17ff7bb32row13_col1\" class=\"data row13 col1\" >0.7124</td>\n",
       "                        <td id=\"T_6d99a0d8_bd86_11eb_b122_48f17ff7bb32row13_col2\" class=\"data row13 col2\" >0.5519</td>\n",
       "                        <td id=\"T_6d99a0d8_bd86_11eb_b122_48f17ff7bb32row13_col3\" class=\"data row13 col3\" >0.2918</td>\n",
       "                        <td id=\"T_6d99a0d8_bd86_11eb_b122_48f17ff7bb32row13_col4\" class=\"data row13 col4\" >0.2687</td>\n",
       "                        <td id=\"T_6d99a0d8_bd86_11eb_b122_48f17ff7bb32row13_col5\" class=\"data row13 col5\" >0.2797</td>\n",
       "                        <td id=\"T_6d99a0d8_bd86_11eb_b122_48f17ff7bb32row13_col6\" class=\"data row13 col6\" >0.1004</td>\n",
       "                        <td id=\"T_6d99a0d8_bd86_11eb_b122_48f17ff7bb32row13_col7\" class=\"data row13 col7\" >0.1006</td>\n",
       "                        <td id=\"T_6d99a0d8_bd86_11eb_b122_48f17ff7bb32row13_col8\" class=\"data row13 col8\" >1.3900</td>\n",
       "            </tr>\n",
       "            <tr>\n",
       "                        <th id=\"T_6d99a0d8_bd86_11eb_b122_48f17ff7bb32level0_row14\" class=\"row_heading level0 row14\" >nb</th>\n",
       "                        <td id=\"T_6d99a0d8_bd86_11eb_b122_48f17ff7bb32row14_col0\" class=\"data row14 col0\" >Naive Bayes</td>\n",
       "                        <td id=\"T_6d99a0d8_bd86_11eb_b122_48f17ff7bb32row14_col1\" class=\"data row14 col1\" >0.4775</td>\n",
       "                        <td id=\"T_6d99a0d8_bd86_11eb_b122_48f17ff7bb32row14_col2\" class=\"data row14 col2\" >0.6861</td>\n",
       "                        <td id=\"T_6d99a0d8_bd86_11eb_b122_48f17ff7bb32row14_col3\" class=\"data row14 col3\" >0.8335</td>\n",
       "                        <td id=\"T_6d99a0d8_bd86_11eb_b122_48f17ff7bb32row14_col4\" class=\"data row14 col4\" >0.2459</td>\n",
       "                        <td id=\"T_6d99a0d8_bd86_11eb_b122_48f17ff7bb32row14_col5\" class=\"data row14 col5\" >0.3795</td>\n",
       "                        <td id=\"T_6d99a0d8_bd86_11eb_b122_48f17ff7bb32row14_col6\" class=\"data row14 col6\" >0.1191</td>\n",
       "                        <td id=\"T_6d99a0d8_bd86_11eb_b122_48f17ff7bb32row14_col7\" class=\"data row14 col7\" >0.1876</td>\n",
       "                        <td id=\"T_6d99a0d8_bd86_11eb_b122_48f17ff7bb32row14_col8\" class=\"data row14 col8\" >0.3370</td>\n",
       "            </tr>\n",
       "    </tbody></table>"
      ],
      "text/plain": [
       "<pandas.io.formats.style.Styler at 0x24a9cb541f0>"
      ]
     },
     "metadata": {},
     "output_type": "display_data"
    },
    {
     "name": "stdout",
     "output_type": "stream",
     "text": [
      "GradientBoostingClassifier(ccp_alpha=0.0, criterion='friedman_mse', init=None,\n",
      "                           learning_rate=0.1, loss='deviance', max_depth=3,\n",
      "                           max_features=None, max_leaf_nodes=None,\n",
      "                           min_impurity_decrease=0.0, min_impurity_split=None,\n",
      "                           min_samples_leaf=1, min_samples_split=2,\n",
      "                           min_weight_fraction_leaf=0.0, n_estimators=100,\n",
      "                           n_iter_no_change=None, presort='deprecated',\n",
      "                           random_state=2559, subsample=1.0, tol=0.0001,\n",
      "                           validation_fraction=0.1, verbose=0,\n",
      "                           warm_start=False)\n"
     ]
    }
   ],
   "source": [
    "# compare machine learning algorithms on the sonar classification dataset\n",
    "\n",
    "from pycaret.classification import setup\n",
    "from pycaret.classification import compare_models\n",
    "\n",
    "# setup the dataset\n",
    "grid = setup(data=df_sam, target=\"loan_status\")\n",
    "# evaluate models and compare models\n",
    "best = compare_models()\n",
    "# report the best model\n",
    "print(best)"
   ]
  },
  {
   "cell_type": "markdown",
   "metadata": {},
   "source": [
    "### let's pick the best base classifier model from the above and save it and tune the hyperparameter"
   ]
  },
  {
   "cell_type": "code",
   "execution_count": 18,
   "metadata": {},
   "outputs": [
    {
     "data": {
      "text/html": [
       "<style  type=\"text/css\" >\n",
       "#T_220b2a24_bdaa_11eb_ac1f_48f17ff7bb32row10_col0,#T_220b2a24_bdaa_11eb_ac1f_48f17ff7bb32row10_col1,#T_220b2a24_bdaa_11eb_ac1f_48f17ff7bb32row10_col2,#T_220b2a24_bdaa_11eb_ac1f_48f17ff7bb32row10_col3,#T_220b2a24_bdaa_11eb_ac1f_48f17ff7bb32row10_col4,#T_220b2a24_bdaa_11eb_ac1f_48f17ff7bb32row10_col5,#T_220b2a24_bdaa_11eb_ac1f_48f17ff7bb32row10_col6{\n",
       "            background:  yellow;\n",
       "        }</style><table id=\"T_220b2a24_bdaa_11eb_ac1f_48f17ff7bb32\" ><thead>    <tr>        <th class=\"blank level0\" ></th>        <th class=\"col_heading level0 col0\" >Accuracy</th>        <th class=\"col_heading level0 col1\" >AUC</th>        <th class=\"col_heading level0 col2\" >Recall</th>        <th class=\"col_heading level0 col3\" >Prec.</th>        <th class=\"col_heading level0 col4\" >F1</th>        <th class=\"col_heading level0 col5\" >Kappa</th>        <th class=\"col_heading level0 col6\" >MCC</th>    </tr></thead><tbody>\n",
       "                <tr>\n",
       "                        <th id=\"T_220b2a24_bdaa_11eb_ac1f_48f17ff7bb32level0_row0\" class=\"row_heading level0 row0\" >0</th>\n",
       "                        <td id=\"T_220b2a24_bdaa_11eb_ac1f_48f17ff7bb32row0_col0\" class=\"data row0 col0\" >0.8101</td>\n",
       "                        <td id=\"T_220b2a24_bdaa_11eb_ac1f_48f17ff7bb32row0_col1\" class=\"data row0 col1\" >0.7165</td>\n",
       "                        <td id=\"T_220b2a24_bdaa_11eb_ac1f_48f17ff7bb32row0_col2\" class=\"data row0 col2\" >0.0567</td>\n",
       "                        <td id=\"T_220b2a24_bdaa_11eb_ac1f_48f17ff7bb32row0_col3\" class=\"data row0 col3\" >0.5390</td>\n",
       "                        <td id=\"T_220b2a24_bdaa_11eb_ac1f_48f17ff7bb32row0_col4\" class=\"data row0 col4\" >0.1026</td>\n",
       "                        <td id=\"T_220b2a24_bdaa_11eb_ac1f_48f17ff7bb32row0_col5\" class=\"data row0 col5\" >0.0687</td>\n",
       "                        <td id=\"T_220b2a24_bdaa_11eb_ac1f_48f17ff7bb32row0_col6\" class=\"data row0 col6\" >0.1267</td>\n",
       "            </tr>\n",
       "            <tr>\n",
       "                        <th id=\"T_220b2a24_bdaa_11eb_ac1f_48f17ff7bb32level0_row1\" class=\"row_heading level0 row1\" >1</th>\n",
       "                        <td id=\"T_220b2a24_bdaa_11eb_ac1f_48f17ff7bb32row1_col0\" class=\"data row1 col0\" >0.8091</td>\n",
       "                        <td id=\"T_220b2a24_bdaa_11eb_ac1f_48f17ff7bb32row1_col1\" class=\"data row1 col1\" >0.7185</td>\n",
       "                        <td id=\"T_220b2a24_bdaa_11eb_ac1f_48f17ff7bb32row1_col2\" class=\"data row1 col2\" >0.0575</td>\n",
       "                        <td id=\"T_220b2a24_bdaa_11eb_ac1f_48f17ff7bb32row1_col3\" class=\"data row1 col3\" >0.5133</td>\n",
       "                        <td id=\"T_220b2a24_bdaa_11eb_ac1f_48f17ff7bb32row1_col4\" class=\"data row1 col4\" >0.1034</td>\n",
       "                        <td id=\"T_220b2a24_bdaa_11eb_ac1f_48f17ff7bb32row1_col5\" class=\"data row1 col5\" >0.0674</td>\n",
       "                        <td id=\"T_220b2a24_bdaa_11eb_ac1f_48f17ff7bb32row1_col6\" class=\"data row1 col6\" >0.1211</td>\n",
       "            </tr>\n",
       "            <tr>\n",
       "                        <th id=\"T_220b2a24_bdaa_11eb_ac1f_48f17ff7bb32level0_row2\" class=\"row_heading level0 row2\" >2</th>\n",
       "                        <td id=\"T_220b2a24_bdaa_11eb_ac1f_48f17ff7bb32row2_col0\" class=\"data row2 col0\" >0.8100</td>\n",
       "                        <td id=\"T_220b2a24_bdaa_11eb_ac1f_48f17ff7bb32row2_col1\" class=\"data row2 col1\" >0.7272</td>\n",
       "                        <td id=\"T_220b2a24_bdaa_11eb_ac1f_48f17ff7bb32row2_col2\" class=\"data row2 col2\" >0.0601</td>\n",
       "                        <td id=\"T_220b2a24_bdaa_11eb_ac1f_48f17ff7bb32row2_col3\" class=\"data row2 col3\" >0.5331</td>\n",
       "                        <td id=\"T_220b2a24_bdaa_11eb_ac1f_48f17ff7bb32row2_col4\" class=\"data row2 col4\" >0.1080</td>\n",
       "                        <td id=\"T_220b2a24_bdaa_11eb_ac1f_48f17ff7bb32row2_col5\" class=\"data row2 col5\" >0.0720</td>\n",
       "                        <td id=\"T_220b2a24_bdaa_11eb_ac1f_48f17ff7bb32row2_col6\" class=\"data row2 col6\" >0.1290</td>\n",
       "            </tr>\n",
       "            <tr>\n",
       "                        <th id=\"T_220b2a24_bdaa_11eb_ac1f_48f17ff7bb32level0_row3\" class=\"row_heading level0 row3\" >3</th>\n",
       "                        <td id=\"T_220b2a24_bdaa_11eb_ac1f_48f17ff7bb32row3_col0\" class=\"data row3 col0\" >0.8107</td>\n",
       "                        <td id=\"T_220b2a24_bdaa_11eb_ac1f_48f17ff7bb32row3_col1\" class=\"data row3 col1\" >0.7199</td>\n",
       "                        <td id=\"T_220b2a24_bdaa_11eb_ac1f_48f17ff7bb32row3_col2\" class=\"data row3 col2\" >0.0642</td>\n",
       "                        <td id=\"T_220b2a24_bdaa_11eb_ac1f_48f17ff7bb32row3_col3\" class=\"data row3 col3\" >0.5478</td>\n",
       "                        <td id=\"T_220b2a24_bdaa_11eb_ac1f_48f17ff7bb32row3_col4\" class=\"data row3 col4\" >0.1149</td>\n",
       "                        <td id=\"T_220b2a24_bdaa_11eb_ac1f_48f17ff7bb32row3_col5\" class=\"data row3 col5\" >0.0779</td>\n",
       "                        <td id=\"T_220b2a24_bdaa_11eb_ac1f_48f17ff7bb32row3_col6\" class=\"data row3 col6\" >0.1372</td>\n",
       "            </tr>\n",
       "            <tr>\n",
       "                        <th id=\"T_220b2a24_bdaa_11eb_ac1f_48f17ff7bb32level0_row4\" class=\"row_heading level0 row4\" >4</th>\n",
       "                        <td id=\"T_220b2a24_bdaa_11eb_ac1f_48f17ff7bb32row4_col0\" class=\"data row4 col0\" >0.8107</td>\n",
       "                        <td id=\"T_220b2a24_bdaa_11eb_ac1f_48f17ff7bb32row4_col1\" class=\"data row4 col1\" >0.7239</td>\n",
       "                        <td id=\"T_220b2a24_bdaa_11eb_ac1f_48f17ff7bb32row4_col2\" class=\"data row4 col2\" >0.0623</td>\n",
       "                        <td id=\"T_220b2a24_bdaa_11eb_ac1f_48f17ff7bb32row4_col3\" class=\"data row4 col3\" >0.5493</td>\n",
       "                        <td id=\"T_220b2a24_bdaa_11eb_ac1f_48f17ff7bb32row4_col4\" class=\"data row4 col4\" >0.1119</td>\n",
       "                        <td id=\"T_220b2a24_bdaa_11eb_ac1f_48f17ff7bb32row4_col5\" class=\"data row4 col5\" >0.0759</td>\n",
       "                        <td id=\"T_220b2a24_bdaa_11eb_ac1f_48f17ff7bb32row4_col6\" class=\"data row4 col6\" >0.1355</td>\n",
       "            </tr>\n",
       "            <tr>\n",
       "                        <th id=\"T_220b2a24_bdaa_11eb_ac1f_48f17ff7bb32level0_row5\" class=\"row_heading level0 row5\" >5</th>\n",
       "                        <td id=\"T_220b2a24_bdaa_11eb_ac1f_48f17ff7bb32row5_col0\" class=\"data row5 col0\" >0.8109</td>\n",
       "                        <td id=\"T_220b2a24_bdaa_11eb_ac1f_48f17ff7bb32row5_col1\" class=\"data row5 col1\" >0.7277</td>\n",
       "                        <td id=\"T_220b2a24_bdaa_11eb_ac1f_48f17ff7bb32row5_col2\" class=\"data row5 col2\" >0.0571</td>\n",
       "                        <td id=\"T_220b2a24_bdaa_11eb_ac1f_48f17ff7bb32row5_col3\" class=\"data row5 col3\" >0.5584</td>\n",
       "                        <td id=\"T_220b2a24_bdaa_11eb_ac1f_48f17ff7bb32row5_col4\" class=\"data row5 col4\" >0.1036</td>\n",
       "                        <td id=\"T_220b2a24_bdaa_11eb_ac1f_48f17ff7bb32row5_col5\" class=\"data row5 col5\" >0.0706</td>\n",
       "                        <td id=\"T_220b2a24_bdaa_11eb_ac1f_48f17ff7bb32row5_col6\" class=\"data row5 col6\" >0.1318</td>\n",
       "            </tr>\n",
       "            <tr>\n",
       "                        <th id=\"T_220b2a24_bdaa_11eb_ac1f_48f17ff7bb32level0_row6\" class=\"row_heading level0 row6\" >6</th>\n",
       "                        <td id=\"T_220b2a24_bdaa_11eb_ac1f_48f17ff7bb32row6_col0\" class=\"data row6 col0\" >0.8111</td>\n",
       "                        <td id=\"T_220b2a24_bdaa_11eb_ac1f_48f17ff7bb32row6_col1\" class=\"data row6 col1\" >0.7195</td>\n",
       "                        <td id=\"T_220b2a24_bdaa_11eb_ac1f_48f17ff7bb32row6_col2\" class=\"data row6 col2\" >0.0623</td>\n",
       "                        <td id=\"T_220b2a24_bdaa_11eb_ac1f_48f17ff7bb32row6_col3\" class=\"data row6 col3\" >0.5585</td>\n",
       "                        <td id=\"T_220b2a24_bdaa_11eb_ac1f_48f17ff7bb32row6_col4\" class=\"data row6 col4\" >0.1121</td>\n",
       "                        <td id=\"T_220b2a24_bdaa_11eb_ac1f_48f17ff7bb32row6_col5\" class=\"data row6 col5\" >0.0766</td>\n",
       "                        <td id=\"T_220b2a24_bdaa_11eb_ac1f_48f17ff7bb32row6_col6\" class=\"data row6 col6\" >0.1378</td>\n",
       "            </tr>\n",
       "            <tr>\n",
       "                        <th id=\"T_220b2a24_bdaa_11eb_ac1f_48f17ff7bb32level0_row7\" class=\"row_heading level0 row7\" >7</th>\n",
       "                        <td id=\"T_220b2a24_bdaa_11eb_ac1f_48f17ff7bb32row7_col0\" class=\"data row7 col0\" >0.8111</td>\n",
       "                        <td id=\"T_220b2a24_bdaa_11eb_ac1f_48f17ff7bb32row7_col1\" class=\"data row7 col1\" >0.7209</td>\n",
       "                        <td id=\"T_220b2a24_bdaa_11eb_ac1f_48f17ff7bb32row7_col2\" class=\"data row7 col2\" >0.0604</td>\n",
       "                        <td id=\"T_220b2a24_bdaa_11eb_ac1f_48f17ff7bb32row7_col3\" class=\"data row7 col3\" >0.5606</td>\n",
       "                        <td id=\"T_220b2a24_bdaa_11eb_ac1f_48f17ff7bb32row7_col4\" class=\"data row7 col4\" >0.1091</td>\n",
       "                        <td id=\"T_220b2a24_bdaa_11eb_ac1f_48f17ff7bb32row7_col5\" class=\"data row7 col5\" >0.0746</td>\n",
       "                        <td id=\"T_220b2a24_bdaa_11eb_ac1f_48f17ff7bb32row7_col6\" class=\"data row7 col6\" >0.1362</td>\n",
       "            </tr>\n",
       "            <tr>\n",
       "                        <th id=\"T_220b2a24_bdaa_11eb_ac1f_48f17ff7bb32level0_row8\" class=\"row_heading level0 row8\" >8</th>\n",
       "                        <td id=\"T_220b2a24_bdaa_11eb_ac1f_48f17ff7bb32row8_col0\" class=\"data row8 col0\" >0.8121</td>\n",
       "                        <td id=\"T_220b2a24_bdaa_11eb_ac1f_48f17ff7bb32row8_col1\" class=\"data row8 col1\" >0.7262</td>\n",
       "                        <td id=\"T_220b2a24_bdaa_11eb_ac1f_48f17ff7bb32row8_col2\" class=\"data row8 col2\" >0.0593</td>\n",
       "                        <td id=\"T_220b2a24_bdaa_11eb_ac1f_48f17ff7bb32row8_col3\" class=\"data row8 col3\" >0.5933</td>\n",
       "                        <td id=\"T_220b2a24_bdaa_11eb_ac1f_48f17ff7bb32row8_col4\" class=\"data row8 col4\" >0.1079</td>\n",
       "                        <td id=\"T_220b2a24_bdaa_11eb_ac1f_48f17ff7bb32row8_col5\" class=\"data row8 col5\" >0.0757</td>\n",
       "                        <td id=\"T_220b2a24_bdaa_11eb_ac1f_48f17ff7bb32row8_col6\" class=\"data row8 col6\" >0.1427</td>\n",
       "            </tr>\n",
       "            <tr>\n",
       "                        <th id=\"T_220b2a24_bdaa_11eb_ac1f_48f17ff7bb32level0_row9\" class=\"row_heading level0 row9\" >9</th>\n",
       "                        <td id=\"T_220b2a24_bdaa_11eb_ac1f_48f17ff7bb32row9_col0\" class=\"data row9 col0\" >0.8106</td>\n",
       "                        <td id=\"T_220b2a24_bdaa_11eb_ac1f_48f17ff7bb32row9_col1\" class=\"data row9 col1\" >0.7166</td>\n",
       "                        <td id=\"T_220b2a24_bdaa_11eb_ac1f_48f17ff7bb32row9_col2\" class=\"data row9 col2\" >0.0675</td>\n",
       "                        <td id=\"T_220b2a24_bdaa_11eb_ac1f_48f17ff7bb32row9_col3\" class=\"data row9 col3\" >0.5435</td>\n",
       "                        <td id=\"T_220b2a24_bdaa_11eb_ac1f_48f17ff7bb32row9_col4\" class=\"data row9 col4\" >0.1201</td>\n",
       "                        <td id=\"T_220b2a24_bdaa_11eb_ac1f_48f17ff7bb32row9_col5\" class=\"data row9 col5\" >0.0813</td>\n",
       "                        <td id=\"T_220b2a24_bdaa_11eb_ac1f_48f17ff7bb32row9_col6\" class=\"data row9 col6\" >0.1397</td>\n",
       "            </tr>\n",
       "            <tr>\n",
       "                        <th id=\"T_220b2a24_bdaa_11eb_ac1f_48f17ff7bb32level0_row10\" class=\"row_heading level0 row10\" >Mean</th>\n",
       "                        <td id=\"T_220b2a24_bdaa_11eb_ac1f_48f17ff7bb32row10_col0\" class=\"data row10 col0\" >0.8106</td>\n",
       "                        <td id=\"T_220b2a24_bdaa_11eb_ac1f_48f17ff7bb32row10_col1\" class=\"data row10 col1\" >0.7217</td>\n",
       "                        <td id=\"T_220b2a24_bdaa_11eb_ac1f_48f17ff7bb32row10_col2\" class=\"data row10 col2\" >0.0607</td>\n",
       "                        <td id=\"T_220b2a24_bdaa_11eb_ac1f_48f17ff7bb32row10_col3\" class=\"data row10 col3\" >0.5497</td>\n",
       "                        <td id=\"T_220b2a24_bdaa_11eb_ac1f_48f17ff7bb32row10_col4\" class=\"data row10 col4\" >0.1094</td>\n",
       "                        <td id=\"T_220b2a24_bdaa_11eb_ac1f_48f17ff7bb32row10_col5\" class=\"data row10 col5\" >0.0741</td>\n",
       "                        <td id=\"T_220b2a24_bdaa_11eb_ac1f_48f17ff7bb32row10_col6\" class=\"data row10 col6\" >0.1338</td>\n",
       "            </tr>\n",
       "            <tr>\n",
       "                        <th id=\"T_220b2a24_bdaa_11eb_ac1f_48f17ff7bb32level0_row11\" class=\"row_heading level0 row11\" >SD</th>\n",
       "                        <td id=\"T_220b2a24_bdaa_11eb_ac1f_48f17ff7bb32row11_col0\" class=\"data row11 col0\" >0.0007</td>\n",
       "                        <td id=\"T_220b2a24_bdaa_11eb_ac1f_48f17ff7bb32row11_col1\" class=\"data row11 col1\" >0.0040</td>\n",
       "                        <td id=\"T_220b2a24_bdaa_11eb_ac1f_48f17ff7bb32row11_col2\" class=\"data row11 col2\" >0.0033</td>\n",
       "                        <td id=\"T_220b2a24_bdaa_11eb_ac1f_48f17ff7bb32row11_col3\" class=\"data row11 col3\" >0.0198</td>\n",
       "                        <td id=\"T_220b2a24_bdaa_11eb_ac1f_48f17ff7bb32row11_col4\" class=\"data row11 col4\" >0.0053</td>\n",
       "                        <td id=\"T_220b2a24_bdaa_11eb_ac1f_48f17ff7bb32row11_col5\" class=\"data row11 col5\" >0.0041</td>\n",
       "                        <td id=\"T_220b2a24_bdaa_11eb_ac1f_48f17ff7bb32row11_col6\" class=\"data row11 col6\" >0.0063</td>\n",
       "            </tr>\n",
       "    </tbody></table>"
      ],
      "text/plain": [
       "<pandas.io.formats.style.Styler at 0x24af3f70940>"
      ]
     },
     "metadata": {},
     "output_type": "display_data"
    }
   ],
   "source": [
    "from pycaret.classification import *\n",
    "mdl = create_model('gbc', fold = 10)"
   ]
  },
  {
   "cell_type": "code",
   "execution_count": 19,
   "metadata": {},
   "outputs": [
    {
     "data": {
      "text/html": [
       "<style  type=\"text/css\" >\n",
       "#T_81110372_bdad_11eb_95c4_48f17ff7bb32row10_col0,#T_81110372_bdad_11eb_95c4_48f17ff7bb32row10_col1,#T_81110372_bdad_11eb_95c4_48f17ff7bb32row10_col2,#T_81110372_bdad_11eb_95c4_48f17ff7bb32row10_col3,#T_81110372_bdad_11eb_95c4_48f17ff7bb32row10_col4,#T_81110372_bdad_11eb_95c4_48f17ff7bb32row10_col5,#T_81110372_bdad_11eb_95c4_48f17ff7bb32row10_col6{\n",
       "            background:  yellow;\n",
       "        }</style><table id=\"T_81110372_bdad_11eb_95c4_48f17ff7bb32\" ><thead>    <tr>        <th class=\"blank level0\" ></th>        <th class=\"col_heading level0 col0\" >Accuracy</th>        <th class=\"col_heading level0 col1\" >AUC</th>        <th class=\"col_heading level0 col2\" >Recall</th>        <th class=\"col_heading level0 col3\" >Prec.</th>        <th class=\"col_heading level0 col4\" >F1</th>        <th class=\"col_heading level0 col5\" >Kappa</th>        <th class=\"col_heading level0 col6\" >MCC</th>    </tr></thead><tbody>\n",
       "                <tr>\n",
       "                        <th id=\"T_81110372_bdad_11eb_95c4_48f17ff7bb32level0_row0\" class=\"row_heading level0 row0\" >0</th>\n",
       "                        <td id=\"T_81110372_bdad_11eb_95c4_48f17ff7bb32row0_col0\" class=\"data row0 col0\" >0.7876</td>\n",
       "                        <td id=\"T_81110372_bdad_11eb_95c4_48f17ff7bb32row0_col1\" class=\"data row0 col1\" >0.6464</td>\n",
       "                        <td id=\"T_81110372_bdad_11eb_95c4_48f17ff7bb32row0_col2\" class=\"data row0 col2\" >0.1739</td>\n",
       "                        <td id=\"T_81110372_bdad_11eb_95c4_48f17ff7bb32row0_col3\" class=\"data row0 col3\" >0.3801</td>\n",
       "                        <td id=\"T_81110372_bdad_11eb_95c4_48f17ff7bb32row0_col4\" class=\"data row0 col4\" >0.2386</td>\n",
       "                        <td id=\"T_81110372_bdad_11eb_95c4_48f17ff7bb32row0_col5\" class=\"data row0 col5\" >0.1346</td>\n",
       "                        <td id=\"T_81110372_bdad_11eb_95c4_48f17ff7bb32row0_col6\" class=\"data row0 col6\" >0.1486</td>\n",
       "            </tr>\n",
       "            <tr>\n",
       "                        <th id=\"T_81110372_bdad_11eb_95c4_48f17ff7bb32level0_row1\" class=\"row_heading level0 row1\" >1</th>\n",
       "                        <td id=\"T_81110372_bdad_11eb_95c4_48f17ff7bb32row1_col0\" class=\"data row1 col0\" >0.7825</td>\n",
       "                        <td id=\"T_81110372_bdad_11eb_95c4_48f17ff7bb32row1_col1\" class=\"data row1 col1\" >0.6497</td>\n",
       "                        <td id=\"T_81110372_bdad_11eb_95c4_48f17ff7bb32row1_col2\" class=\"data row1 col2\" >0.1679</td>\n",
       "                        <td id=\"T_81110372_bdad_11eb_95c4_48f17ff7bb32row1_col3\" class=\"data row1 col3\" >0.3557</td>\n",
       "                        <td id=\"T_81110372_bdad_11eb_95c4_48f17ff7bb32row1_col4\" class=\"data row1 col4\" >0.2281</td>\n",
       "                        <td id=\"T_81110372_bdad_11eb_95c4_48f17ff7bb32row1_col5\" class=\"data row1 col5\" >0.1201</td>\n",
       "                        <td id=\"T_81110372_bdad_11eb_95c4_48f17ff7bb32row1_col6\" class=\"data row1 col6\" >0.1316</td>\n",
       "            </tr>\n",
       "            <tr>\n",
       "                        <th id=\"T_81110372_bdad_11eb_95c4_48f17ff7bb32level0_row2\" class=\"row_heading level0 row2\" >2</th>\n",
       "                        <td id=\"T_81110372_bdad_11eb_95c4_48f17ff7bb32row2_col0\" class=\"data row2 col0\" >0.7879</td>\n",
       "                        <td id=\"T_81110372_bdad_11eb_95c4_48f17ff7bb32row2_col1\" class=\"data row2 col1\" >0.6613</td>\n",
       "                        <td id=\"T_81110372_bdad_11eb_95c4_48f17ff7bb32row2_col2\" class=\"data row2 col2\" >0.1683</td>\n",
       "                        <td id=\"T_81110372_bdad_11eb_95c4_48f17ff7bb32row2_col3\" class=\"data row2 col3\" >0.3787</td>\n",
       "                        <td id=\"T_81110372_bdad_11eb_95c4_48f17ff7bb32row2_col4\" class=\"data row2 col4\" >0.2330</td>\n",
       "                        <td id=\"T_81110372_bdad_11eb_95c4_48f17ff7bb32row2_col5\" class=\"data row2 col5\" >0.1306</td>\n",
       "                        <td id=\"T_81110372_bdad_11eb_95c4_48f17ff7bb32row2_col6\" class=\"data row2 col6\" >0.1451</td>\n",
       "            </tr>\n",
       "            <tr>\n",
       "                        <th id=\"T_81110372_bdad_11eb_95c4_48f17ff7bb32level0_row3\" class=\"row_heading level0 row3\" >3</th>\n",
       "                        <td id=\"T_81110372_bdad_11eb_95c4_48f17ff7bb32row3_col0\" class=\"data row3 col0\" >0.7841</td>\n",
       "                        <td id=\"T_81110372_bdad_11eb_95c4_48f17ff7bb32row3_col1\" class=\"data row3 col1\" >0.6478</td>\n",
       "                        <td id=\"T_81110372_bdad_11eb_95c4_48f17ff7bb32row3_col2\" class=\"data row3 col2\" >0.1590</td>\n",
       "                        <td id=\"T_81110372_bdad_11eb_95c4_48f17ff7bb32row3_col3\" class=\"data row3 col3\" >0.3565</td>\n",
       "                        <td id=\"T_81110372_bdad_11eb_95c4_48f17ff7bb32row3_col4\" class=\"data row3 col4\" >0.2199</td>\n",
       "                        <td id=\"T_81110372_bdad_11eb_95c4_48f17ff7bb32row3_col5\" class=\"data row3 col5\" >0.1154</td>\n",
       "                        <td id=\"T_81110372_bdad_11eb_95c4_48f17ff7bb32row3_col6\" class=\"data row3 col6\" >0.1282</td>\n",
       "            </tr>\n",
       "            <tr>\n",
       "                        <th id=\"T_81110372_bdad_11eb_95c4_48f17ff7bb32level0_row4\" class=\"row_heading level0 row4\" >4</th>\n",
       "                        <td id=\"T_81110372_bdad_11eb_95c4_48f17ff7bb32row4_col0\" class=\"data row4 col0\" >0.7846</td>\n",
       "                        <td id=\"T_81110372_bdad_11eb_95c4_48f17ff7bb32row4_col1\" class=\"data row4 col1\" >0.6610</td>\n",
       "                        <td id=\"T_81110372_bdad_11eb_95c4_48f17ff7bb32row4_col2\" class=\"data row4 col2\" >0.1668</td>\n",
       "                        <td id=\"T_81110372_bdad_11eb_95c4_48f17ff7bb32row4_col3\" class=\"data row4 col3\" >0.3634</td>\n",
       "                        <td id=\"T_81110372_bdad_11eb_95c4_48f17ff7bb32row4_col4\" class=\"data row4 col4\" >0.2286</td>\n",
       "                        <td id=\"T_81110372_bdad_11eb_95c4_48f17ff7bb32row4_col5\" class=\"data row4 col5\" >0.1230</td>\n",
       "                        <td id=\"T_81110372_bdad_11eb_95c4_48f17ff7bb32row4_col6\" class=\"data row4 col6\" >0.1357</td>\n",
       "            </tr>\n",
       "            <tr>\n",
       "                        <th id=\"T_81110372_bdad_11eb_95c4_48f17ff7bb32level0_row5\" class=\"row_heading level0 row5\" >5</th>\n",
       "                        <td id=\"T_81110372_bdad_11eb_95c4_48f17ff7bb32row5_col0\" class=\"data row5 col0\" >0.7852</td>\n",
       "                        <td id=\"T_81110372_bdad_11eb_95c4_48f17ff7bb32row5_col1\" class=\"data row5 col1\" >0.6503</td>\n",
       "                        <td id=\"T_81110372_bdad_11eb_95c4_48f17ff7bb32row5_col2\" class=\"data row5 col2\" >0.1799</td>\n",
       "                        <td id=\"T_81110372_bdad_11eb_95c4_48f17ff7bb32row5_col3\" class=\"data row5 col3\" >0.3734</td>\n",
       "                        <td id=\"T_81110372_bdad_11eb_95c4_48f17ff7bb32row5_col4\" class=\"data row5 col4\" >0.2428</td>\n",
       "                        <td id=\"T_81110372_bdad_11eb_95c4_48f17ff7bb32row5_col5\" class=\"data row5 col5\" >0.1351</td>\n",
       "                        <td id=\"T_81110372_bdad_11eb_95c4_48f17ff7bb32row5_col6\" class=\"data row5 col6\" >0.1474</td>\n",
       "            </tr>\n",
       "            <tr>\n",
       "                        <th id=\"T_81110372_bdad_11eb_95c4_48f17ff7bb32level0_row6\" class=\"row_heading level0 row6\" >6</th>\n",
       "                        <td id=\"T_81110372_bdad_11eb_95c4_48f17ff7bb32row6_col0\" class=\"data row6 col0\" >0.7834</td>\n",
       "                        <td id=\"T_81110372_bdad_11eb_95c4_48f17ff7bb32row6_col1\" class=\"data row6 col1\" >0.6483</td>\n",
       "                        <td id=\"T_81110372_bdad_11eb_95c4_48f17ff7bb32row6_col2\" class=\"data row6 col2\" >0.1675</td>\n",
       "                        <td id=\"T_81110372_bdad_11eb_95c4_48f17ff7bb32row6_col3\" class=\"data row6 col3\" >0.3592</td>\n",
       "                        <td id=\"T_81110372_bdad_11eb_95c4_48f17ff7bb32row6_col4\" class=\"data row6 col4\" >0.2285</td>\n",
       "                        <td id=\"T_81110372_bdad_11eb_95c4_48f17ff7bb32row6_col5\" class=\"data row6 col5\" >0.1215</td>\n",
       "                        <td id=\"T_81110372_bdad_11eb_95c4_48f17ff7bb32row6_col6\" class=\"data row6 col6\" >0.1335</td>\n",
       "            </tr>\n",
       "            <tr>\n",
       "                        <th id=\"T_81110372_bdad_11eb_95c4_48f17ff7bb32level0_row7\" class=\"row_heading level0 row7\" >7</th>\n",
       "                        <td id=\"T_81110372_bdad_11eb_95c4_48f17ff7bb32row7_col0\" class=\"data row7 col0\" >0.7840</td>\n",
       "                        <td id=\"T_81110372_bdad_11eb_95c4_48f17ff7bb32row7_col1\" class=\"data row7 col1\" >0.6464</td>\n",
       "                        <td id=\"T_81110372_bdad_11eb_95c4_48f17ff7bb32row7_col2\" class=\"data row7 col2\" >0.1705</td>\n",
       "                        <td id=\"T_81110372_bdad_11eb_95c4_48f17ff7bb32row7_col3\" class=\"data row7 col3\" >0.3633</td>\n",
       "                        <td id=\"T_81110372_bdad_11eb_95c4_48f17ff7bb32row7_col4\" class=\"data row7 col4\" >0.2321</td>\n",
       "                        <td id=\"T_81110372_bdad_11eb_95c4_48f17ff7bb32row7_col5\" class=\"data row7 col5\" >0.1251</td>\n",
       "                        <td id=\"T_81110372_bdad_11eb_95c4_48f17ff7bb32row7_col6\" class=\"data row7 col6\" >0.1372</td>\n",
       "            </tr>\n",
       "            <tr>\n",
       "                        <th id=\"T_81110372_bdad_11eb_95c4_48f17ff7bb32level0_row8\" class=\"row_heading level0 row8\" >8</th>\n",
       "                        <td id=\"T_81110372_bdad_11eb_95c4_48f17ff7bb32row8_col0\" class=\"data row8 col0\" >0.7884</td>\n",
       "                        <td id=\"T_81110372_bdad_11eb_95c4_48f17ff7bb32row8_col1\" class=\"data row8 col1\" >0.6606</td>\n",
       "                        <td id=\"T_81110372_bdad_11eb_95c4_48f17ff7bb32row8_col2\" class=\"data row8 col2\" >0.1787</td>\n",
       "                        <td id=\"T_81110372_bdad_11eb_95c4_48f17ff7bb32row8_col3\" class=\"data row8 col3\" >0.3860</td>\n",
       "                        <td id=\"T_81110372_bdad_11eb_95c4_48f17ff7bb32row8_col4\" class=\"data row8 col4\" >0.2443</td>\n",
       "                        <td id=\"T_81110372_bdad_11eb_95c4_48f17ff7bb32row8_col5\" class=\"data row8 col5\" >0.1401</td>\n",
       "                        <td id=\"T_81110372_bdad_11eb_95c4_48f17ff7bb32row8_col6\" class=\"data row8 col6\" >0.1542</td>\n",
       "            </tr>\n",
       "            <tr>\n",
       "                        <th id=\"T_81110372_bdad_11eb_95c4_48f17ff7bb32level0_row9\" class=\"row_heading level0 row9\" >9</th>\n",
       "                        <td id=\"T_81110372_bdad_11eb_95c4_48f17ff7bb32row9_col0\" class=\"data row9 col0\" >0.7848</td>\n",
       "                        <td id=\"T_81110372_bdad_11eb_95c4_48f17ff7bb32row9_col1\" class=\"data row9 col1\" >0.6509</td>\n",
       "                        <td id=\"T_81110372_bdad_11eb_95c4_48f17ff7bb32row9_col2\" class=\"data row9 col2\" >0.1690</td>\n",
       "                        <td id=\"T_81110372_bdad_11eb_95c4_48f17ff7bb32row9_col3\" class=\"data row9 col3\" >0.3656</td>\n",
       "                        <td id=\"T_81110372_bdad_11eb_95c4_48f17ff7bb32row9_col4\" class=\"data row9 col4\" >0.2312</td>\n",
       "                        <td id=\"T_81110372_bdad_11eb_95c4_48f17ff7bb32row9_col5\" class=\"data row9 col5\" >0.1253</td>\n",
       "                        <td id=\"T_81110372_bdad_11eb_95c4_48f17ff7bb32row9_col6\" class=\"data row9 col6\" >0.1380</td>\n",
       "            </tr>\n",
       "            <tr>\n",
       "                        <th id=\"T_81110372_bdad_11eb_95c4_48f17ff7bb32level0_row10\" class=\"row_heading level0 row10\" >Mean</th>\n",
       "                        <td id=\"T_81110372_bdad_11eb_95c4_48f17ff7bb32row10_col0\" class=\"data row10 col0\" >0.7852</td>\n",
       "                        <td id=\"T_81110372_bdad_11eb_95c4_48f17ff7bb32row10_col1\" class=\"data row10 col1\" >0.6523</td>\n",
       "                        <td id=\"T_81110372_bdad_11eb_95c4_48f17ff7bb32row10_col2\" class=\"data row10 col2\" >0.1701</td>\n",
       "                        <td id=\"T_81110372_bdad_11eb_95c4_48f17ff7bb32row10_col3\" class=\"data row10 col3\" >0.3682</td>\n",
       "                        <td id=\"T_81110372_bdad_11eb_95c4_48f17ff7bb32row10_col4\" class=\"data row10 col4\" >0.2327</td>\n",
       "                        <td id=\"T_81110372_bdad_11eb_95c4_48f17ff7bb32row10_col5\" class=\"data row10 col5\" >0.1271</td>\n",
       "                        <td id=\"T_81110372_bdad_11eb_95c4_48f17ff7bb32row10_col6\" class=\"data row10 col6\" >0.1399</td>\n",
       "            </tr>\n",
       "            <tr>\n",
       "                        <th id=\"T_81110372_bdad_11eb_95c4_48f17ff7bb32level0_row11\" class=\"row_heading level0 row11\" >SD</th>\n",
       "                        <td id=\"T_81110372_bdad_11eb_95c4_48f17ff7bb32row11_col0\" class=\"data row11 col0\" >0.0019</td>\n",
       "                        <td id=\"T_81110372_bdad_11eb_95c4_48f17ff7bb32row11_col1\" class=\"data row11 col1\" >0.0059</td>\n",
       "                        <td id=\"T_81110372_bdad_11eb_95c4_48f17ff7bb32row11_col2\" class=\"data row11 col2\" >0.0058</td>\n",
       "                        <td id=\"T_81110372_bdad_11eb_95c4_48f17ff7bb32row11_col3\" class=\"data row11 col3\" >0.0101</td>\n",
       "                        <td id=\"T_81110372_bdad_11eb_95c4_48f17ff7bb32row11_col4\" class=\"data row11 col4\" >0.0070</td>\n",
       "                        <td id=\"T_81110372_bdad_11eb_95c4_48f17ff7bb32row11_col5\" class=\"data row11 col5\" >0.0074</td>\n",
       "                        <td id=\"T_81110372_bdad_11eb_95c4_48f17ff7bb32row11_col6\" class=\"data row11 col6\" >0.0080</td>\n",
       "            </tr>\n",
       "    </tbody></table>"
      ],
      "text/plain": [
       "<pandas.io.formats.style.Styler at 0x24aea3b7dc0>"
      ]
     },
     "metadata": {},
     "output_type": "display_data"
    }
   ],
   "source": [
    "Tuned_mdl = tune_model(mdl, optimize=\"F1\")"
   ]
  },
  {
   "cell_type": "code",
   "execution_count": 22,
   "metadata": {},
   "outputs": [],
   "source": [
    "#save_model(best, model_name='best-model')"
   ]
  },
  {
   "cell_type": "code",
   "execution_count": 51,
   "metadata": {},
   "outputs": [],
   "source": [
    "#loaded_bestmodel = load_model('best-model')\n",
    "#print(loaded_bestmodel)"
   ]
  },
  {
   "cell_type": "markdown",
   "metadata": {},
   "source": [
    "## From the above analysis ie using PyCaret, it is seen that GradientBoostingClassifier and Naive Bayes is the best base model among the others. So, hyperparameters are tuned in the next steps:"
   ]
  },
  {
   "cell_type": "code",
   "execution_count": 20,
   "metadata": {},
   "outputs": [],
   "source": [
    "y=df[\"loan_status\"]\n",
    "X = df.drop([\"loan_status\"],axis =1)"
   ]
  },
  {
   "cell_type": "code",
   "execution_count": 21,
   "metadata": {},
   "outputs": [],
   "source": [
    "from sklearn.naive_bayes import GaussianNB\n",
    "from sklearn.metrics import accuracy_score"
   ]
  },
  {
   "cell_type": "code",
   "execution_count": 22,
   "metadata": {},
   "outputs": [
    {
     "data": {
      "text/plain": [
       "0    880570\n",
       "1    210071\n",
       "Name: loan_status, dtype: int64"
      ]
     },
     "execution_count": 22,
     "metadata": {},
     "output_type": "execute_result"
    }
   ],
   "source": [
    "y.value_counts()"
   ]
  },
  {
   "cell_type": "code",
   "execution_count": 23,
   "metadata": {},
   "outputs": [],
   "source": [
    "X_train, X_test, y_train, y_test = train_test_split(X, y, test_size = 0.3, random_state=42)"
   ]
  },
  {
   "cell_type": "code",
   "execution_count": 24,
   "metadata": {},
   "outputs": [
    {
     "name": "stdout",
     "output_type": "stream",
     "text": [
      "Shape of X_train: (763448, 75)\n",
      "Shape of y_train: (763448,)\n",
      "\n",
      "Shape of X_test: (327193, 75)\n",
      "Shape of y_test: (327193,)\n"
     ]
    }
   ],
   "source": [
    "print(\"Shape of X_train:\", np.shape(X_train))\n",
    "print(\"Shape of y_train:\", np.shape(y_train))\n",
    "print()\n",
    "print(\"Shape of X_test:\", np.shape(X_test))\n",
    "print(\"Shape of y_test:\", np.shape(y_test))"
   ]
  },
  {
   "cell_type": "code",
   "execution_count": 25,
   "metadata": {},
   "outputs": [
    {
     "data": {
      "text/plain": [
       "GaussianNB(priors=None, var_smoothing=1e-09)"
      ]
     },
     "execution_count": 25,
     "metadata": {},
     "output_type": "execute_result"
    }
   ],
   "source": [
    "model = GaussianNB()\n",
    "#model = SVC()\n",
    "model.fit(X_train, y_train)"
   ]
  },
  {
   "cell_type": "code",
   "execution_count": 26,
   "metadata": {},
   "outputs": [],
   "source": [
    "y_pred = model.predict(X_test)"
   ]
  },
  {
   "cell_type": "code",
   "execution_count": 27,
   "metadata": {},
   "outputs": [
    {
     "name": "stdout",
     "output_type": "stream",
     "text": [
      "Accuracy: 62.09%\n"
     ]
    }
   ],
   "source": [
    "accuracy = accuracy_score(y_test, y_pred)\n",
    "print(\"Accuracy: %.2f%%\" % (accuracy * 100.0))"
   ]
  },
  {
   "cell_type": "code",
   "execution_count": 31,
   "metadata": {},
   "outputs": [
    {
     "name": "stdout",
     "output_type": "stream",
     "text": [
      "AUC: 0.684311724774592\n"
     ]
    }
   ],
   "source": [
    "from sklearn.metrics import classification_report,confusion_matrix,roc_curve,roc_auc_score\n",
    "y_pred_prob = model.predict_proba(X_test)[:, 1]\n",
    "# Area under the curve.\n",
    "print(\"AUC: {}\".format(roc_auc_score(y_test, y_pred_prob)))"
   ]
  },
  {
   "cell_type": "code",
   "execution_count": 32,
   "metadata": {},
   "outputs": [
    {
     "name": "stdout",
     "output_type": "stream",
     "text": [
      "              precision    recall  f1-score   support\n",
      "\n",
      "           0       0.89      0.61      0.72    264544\n",
      "           1       0.29      0.67      0.40     62649\n",
      "\n",
      "    accuracy                           0.62    327193\n",
      "   macro avg       0.59      0.64      0.56    327193\n",
      "weighted avg       0.77      0.62      0.66    327193\n",
      "\n"
     ]
    }
   ],
   "source": [
    "from sklearn.metrics import classification_report\n",
    "print(classification_report(y_test, y_pred))"
   ]
  },
  {
   "cell_type": "markdown",
   "metadata": {},
   "source": [
    "### Let's try another model \"Gradient Boosting Classifier\" using default parameter values"
   ]
  },
  {
   "cell_type": "code",
   "execution_count": 34,
   "metadata": {},
   "outputs": [
    {
     "name": "stdout",
     "output_type": "stream",
     "text": [
      "Classification score for Base Model is: \n",
      "GradientBoostingClassifier: Accuracy=0.812\n",
      "GradientBoostingClassifier: f1-score=0.747\n",
      "GradientBoostingClassifier: ROC=0.723\n"
     ]
    }
   ],
   "source": [
    "## BASE MODEL\n",
    "from sklearn.metrics import f1_score\n",
    "#from sklearn.ensemble import RandomForestClassifier\n",
    "from sklearn.ensemble import GradientBoostingClassifier\n",
    "from sklearn.metrics import classification_report,confusion_matrix,roc_curve,roc_auc_score\n",
    "from sklearn.metrics import accuracy_score\n",
    "\n",
    "clf = GradientBoostingClassifier()\n",
    "model_res = clf.fit(X_train, y_train)\n",
    "y_pred = model_res.predict(X_test)\n",
    "\n",
    "ac = accuracy_score(y_test, y_pred)\n",
    "f1 = f1_score(y_test, y_pred, average='weighted')\n",
    "\n",
    "y_pred_prob = clf.predict_proba(X_test)[:, 1]\n",
    "# Area under the curve.\n",
    "roc = roc_auc_score(y_test, y_pred_prob)\n",
    "print(\"Classification score for Base Model is: \")\n",
    "print('GradientBoostingClassifier: Accuracy=%.3f' % (ac))\n",
    "print('GradientBoostingClassifier: f1-score=%.3f' % (f1))\n",
    "print('GradientBoostingClassifier: ROC=%.3f' % (roc))"
   ]
  },
  {
   "cell_type": "code",
   "execution_count": 35,
   "metadata": {},
   "outputs": [
    {
     "name": "stdout",
     "output_type": "stream",
     "text": [
      "              precision    recall  f1-score   support\n",
      "\n",
      "           0       0.82      0.99      0.89    264544\n",
      "           1       0.57      0.07      0.13     62649\n",
      "\n",
      "    accuracy                           0.81    327193\n",
      "   macro avg       0.69      0.53      0.51    327193\n",
      "weighted avg       0.77      0.81      0.75    327193\n",
      "\n"
     ]
    }
   ],
   "source": [
    "print(classification_report(y_test, y_pred))"
   ]
  },
  {
   "cell_type": "markdown",
   "metadata": {},
   "source": [
    "### Now let's tune hyparameter"
   ]
  },
  {
   "cell_type": "code",
   "execution_count": null,
   "metadata": {},
   "outputs": [],
   "source": [
    "# ### some of the default parameters in SKLearn Setting\n",
    "# Tree specific parameters\n",
    "# n_estimators=100 (number of trees)\n",
    "# max_depth=3\n",
    "# min_samples_split=2\n",
    "# min_samples_leaf=1\n",
    "# subsample=1.0\n",
    "\n",
    "# Other Parameters\n",
    "# learning_rate=0.1 (shrinkage)\n",
    "# subsample: 1"
   ]
  },
  {
   "cell_type": "code",
   "execution_count": 47,
   "metadata": {},
   "outputs": [
    {
     "data": {
      "text/plain": [
       "({'learning_rate': 0.1, 'max_depth': 8, 'n_estimators': 75},\n",
       " 0.7259198060875701)"
      ]
     },
     "execution_count": 47,
     "metadata": {},
     "output_type": "execute_result"
    }
   ],
   "source": [
    "from sklearn.model_selection import GridSearchCV\n",
    "import functools\n",
    "multiclass_roc_auc = functools.partial(roc_auc_score)\n",
    "p_test1 = {'learning_rate':[0.05, 0.1, 0.25, 0.5, 0.75, 1, 2], 'n_estimators':[20, 30,50,75], \\\n",
    "          'max_depth':[4,6,8,10]}\n",
    "\n",
    "#tuning = GridSearchCV(estimator =GradientBoostingClassifier(min_samples_split=2, min_samples_leaf=1, subsample=1,max_features='sqrt', random_state=10), \n",
    "#            param_grid = p_test1, scoring='auc',n_jobs=4,iid=False, cv=5)\n",
    "tuning = GridSearchCV(estimator =GradientBoostingClassifier(min_samples_split=2, min_samples_leaf=1, subsample=1,max_features='sqrt', random_state=10), \n",
    "            param_grid = p_test1, scoring=\"roc_auc\", n_jobs=4,iid=False, cv=5)\n",
    "tuning.fit(X_train,y_train)\n",
    "tuning.best_params_, tuning.best_score_"
   ]
  },
  {
   "cell_type": "code",
   "execution_count": 58,
   "metadata": {},
   "outputs": [],
   "source": [
    "# from sklearn.model_selection import GridSearchCV\n",
    "# p_test1 = {'learning_rate':[0.15,0.1,0.05], 'n_estimators':[100, 500,1000,1500], \\\n",
    "#           'max_depth':[5, 10, 15]}\n",
    "\n",
    "# tuning = GridSearchCV(estimator =GradientBoostingClassifier(min_samples_split=2, min_samples_leaf=1, subsample=1,max_features='sqrt', random_state=10), \n",
    "#             param_grid = p_test1, scoring='accuracy',n_jobs=4,iid=False, cv=5)\n",
    "# tuning.fit(X_train,y_train)\n",
    "# tuning.grid_scores_, tuning.best_params_, tuning.best_score_"
   ]
  },
  {
   "cell_type": "code",
   "execution_count": 51,
   "metadata": {},
   "outputs": [],
   "source": [
    "# learning_rates = [0.05, 0.1, 0.25, 0.5, 0.75, 1, 2]\n",
    "# for learning_rate in learning_rates:\n",
    "#     gb = GradientBoostingClassifier(n_estimators=20, learning_rate = learning_rate, max_features=2, max_depth = 2, random_state = 0)\n",
    "#     gb.fit(X_train, y_train)\n",
    "#     y_pred = gb.predict(X_test)\n",
    "#     print(\"Learning rate: \", learning_rate)\n",
    "#     print(\"Accuracy score (training): {0:.3f}\".format(gb.score(X_train, y_train)))\n",
    "#     print(\"Accuracy score (validation): {0:.3f}\".format(gb.score(X_test, y_test)))\n",
    "#     print(\"F1 score (validation): {0:.3f}\".format(f1_score(y_test, y_pred, average='weighted')))\n",
    "#     #f1 = f1_score(y_test, y_pred, average='weighted')\n",
    "#     print()"
   ]
  },
  {
   "cell_type": "code",
   "execution_count": 52,
   "metadata": {},
   "outputs": [],
   "source": [
    "# max_depths = [2,4,6,8,10]\n",
    "# for max_depth in max_depths:\n",
    "#     gb = GradientBoostingClassifier(n_estimators=20, learning_rate = 1, max_features=2, max_depth = max_depth, random_state = 0)\n",
    "#     gb.fit(X_train, y_train)\n",
    "#     y_pred = gb.predict(X_test)\n",
    "#     print(\"Max depth: \", max_depth)\n",
    "#     print(\"Accuracy score (training): {0:.3f}\".format(gb.score(X_train, y_train)))\n",
    "#     print(\"Accuracy score (validation): {0:.3f}\".format(gb.score(X_test, y_test)))\n",
    "#     print(\"F1 score (validation): {0:.3f}\".format(f1_score(y_test, y_pred, average='weighted')))    \n",
    "#     print()"
   ]
  },
  {
   "cell_type": "code",
   "execution_count": 53,
   "metadata": {},
   "outputs": [],
   "source": [
    "# n_estimators = [20, 30,50,100]\n",
    "\n",
    "# for n_estimator in n_estimators:\n",
    "#     gb = GradientBoostingClassifier(n_estimators=n_estimator, learning_rate = 1, max_features=2, max_depth = 6, random_state = 0)\n",
    "#     gb.fit(X_train, y_train)\n",
    "#     y_pred = gb.predict(X_test)\n",
    "#     print(\"n_estimator: \", n_estimator)\n",
    "#     print(\"Accuracy score (training): {0:.3f}\".format(gb.score(X_train, y_train)))\n",
    "#     print(\"Accuracy score (validation): {0:.3f}\".format(gb.score(X_test, y_test)))\n",
    "#     print(\"F1 score (validation): {0:.3f}\".format(f1_score(y_test, y_pred, average='weighted')))    \n",
    "#     print()\n",
    "\n"
   ]
  },
  {
   "cell_type": "markdown",
   "metadata": {},
   "source": [
    "### Now train the model using above hyperparameter \n",
    "#### Use learning rate = 0.1, max_depth=8, and n_estimator=75"
   ]
  },
  {
   "cell_type": "code",
   "execution_count": 54,
   "metadata": {},
   "outputs": [
    {
     "name": "stdout",
     "output_type": "stream",
     "text": [
      "Accuracy score (training): 0.813\n",
      "Accuracy score (validation): 0.811\n",
      "F1 score (validation): 0.746\n",
      "GradientBoostingClassifier: ROC=0.723\n"
     ]
    }
   ],
   "source": [
    "gb = GradientBoostingClassifier(n_estimators=75, learning_rate = 0.1, max_features=2, max_depth = 8, random_state = 0)\n",
    "gb.fit(X_train, y_train)\n",
    "y_pred = gb.predict(X_test)\n",
    "y_pred_prob = clf.predict_proba(X_test)[:, 1]\n",
    "# Area under the curve.\n",
    "roc = roc_auc_score(y_test, y_pred_prob)\n",
    "\n",
    "print(\"Accuracy score (training): {0:.3f}\".format(gb.score(X_train, y_train)))\n",
    "print(\"Accuracy score (validation): {0:.3f}\".format(gb.score(X_test, y_test)))\n",
    "print(\"F1 score (validation): {0:.3f}\".format(f1_score(y_test, y_pred, average='weighted')))    \n",
    "\n",
    "print('GradientBoostingClassifier: ROC=%.3f' % (roc))"
   ]
  },
  {
   "cell_type": "code",
   "execution_count": null,
   "metadata": {},
   "outputs": [],
   "source": [
    "# from sklearn.model_selection import GridSearchCV\n",
    "# param_grid = {\"C\":[0.001, 0.1, 1, 10, 100]}\n",
    "# cl = LogisticRegression()\n",
    "# cl_cv = GridSearchCV(cl, param_grid, cv=5)\n",
    "# cl_cv.fit(Xlr, ylr)\n",
    "# print(\"Best Score:\" + str(cl_cv.best_score_))\n",
    "# print(\"Best Parameters: \" + str(cl_cv.best_params_))\n",
    "# print(cl_cv.best_estimator_)"
   ]
  },
  {
   "cell_type": "markdown",
   "metadata": {},
   "source": [
    "### plot AOC"
   ]
  },
  {
   "cell_type": "code",
   "execution_count": 55,
   "metadata": {},
   "outputs": [
    {
     "name": "stdout",
     "output_type": "stream",
     "text": [
      "AUC: 0.7230351127356558\n"
     ]
    },
    {
     "data": {
      "image/png": "[encoded data removed]",
      "text/plain": [
       "<Figure size 432x288 with 1 Axes>"
      ]
     },
     "metadata": {
      "needs_background": "light"
     },
     "output_type": "display_data"
    }
   ],
   "source": [
    "# Calculated probability\n",
    "y_pred_prob = gb.predict_proba(X_test)[:, 1]\n",
    "\n",
    "# Generate ROC curve values: fpr, tpr, thresholds\n",
    "fpr, tpr, thresholds = roc_curve(y_test, y_pred_prob)\n",
    "\n",
    "# Area under the curve.\n",
    "print(\"AUC: {}\".format(roc_auc_score(y_test, y_pred_prob)))\n",
    "\n",
    "# Plot ROC curve\n",
    "plt.plot([0, 1], [0, 1], 'k--')\n",
    "plt.plot(fpr, tpr, 'r', label='Gradient Boosting')\n",
    "plt.xlabel('False Positive Rate')\n",
    "plt.ylabel('True Positive Rate')\n",
    "plt.title('ROC Curve')\n",
    "plt.legend()\n",
    "plt.show()"
   ]
  },
  {
   "cell_type": "markdown",
   "metadata": {},
   "source": [
    "### PLOT Variable importance"
   ]
  },
  {
   "cell_type": "code",
   "execution_count": 56,
   "metadata": {},
   "outputs": [
    {
     "name": "stdout",
     "output_type": "stream",
     "text": [
      "75\n"
     ]
    },
    {
     "data": {
      "image/png": "[encoded data removed]",
      "text/plain": [
       "<Figure size 720x2160 with 1 Axes>"
      ]
     },
     "metadata": {
      "needs_background": "light"
     },
     "output_type": "display_data"
    }
   ],
   "source": [
    "\n",
    "feature_importance = gb.feature_importances_\n",
    "# make importances relative to max importance\n",
    "#feature_importance = 100.0 * (feature_importance / feature_importance.max())[:30]\n",
    "sorted_idx = np.argsort(feature_importance) #[:30]\n",
    "\n",
    "pos = np.arange(sorted_idx.shape[0]) + .5\n",
    "print(pos.size)\n",
    "sorted_idx.size\n",
    "plt.figure(figsize=(10,30))\n",
    "plt.barh(pos, feature_importance[sorted_idx], align='center')\n",
    "plt.yticks(pos, X.columns[sorted_idx])\n",
    "plt.xlabel('Relative Importance')\n",
    "plt.title('Variable Importance')\n",
    "plt.show()"
   ]
  },
  {
   "cell_type": "markdown",
   "metadata": {},
   "source": [
    "## The End"
   ]
  },
  {
   "cell_type": "code",
   "execution_count": null,
   "metadata": {},
   "outputs": [],
   "source": []
  }
 ],
 "metadata": {
  "kernelspec": {
   "display_name": "Python 3",
   "language": "python",
   "name": "python3"
  },
  "language_info": {
   "codemirror_mode": {
    "name": "ipython",
    "version": 3
   },
   "file_extension": ".py",
   "mimetype": "text/x-python",
   "name": "python",
   "nbconvert_exporter": "python",
   "pygments_lexer": "ipython3",
   "version": "3.8.5"
  }
 },
 "nbformat": 4,
 "nbformat_minor": 4
}
